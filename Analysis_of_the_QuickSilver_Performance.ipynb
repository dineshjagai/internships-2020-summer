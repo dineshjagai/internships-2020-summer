{
  "nbformat": 4,
  "nbformat_minor": 0,
  "metadata": {
    "colab": {
      "name": "Analysis_of_the_QuickSilver_Performance.ipynb",
      "provenance": [],
      "collapsed_sections": [],
      "toc_visible": true,
      "include_colab_link": true
    },
    "kernelspec": {
      "name": "python3",
      "display_name": "Python 3"
    },
    "widgets": {
      "application/vnd.jupyter.widget-state+json": {
        "5a50332b152f48fba8f8323884cc421c": {
          "model_module": "@jupyter-widgets/controls",
          "model_name": "HBoxModel",
          "state": {
            "_view_name": "HBoxView",
            "_dom_classes": [],
            "_model_name": "HBoxModel",
            "_view_module": "@jupyter-widgets/controls",
            "_model_module_version": "1.5.0",
            "_view_count": null,
            "_view_module_version": "1.5.0",
            "box_style": "",
            "layout": "IPY_MODEL_e945cb7be762482983259662a22dd8ae",
            "_model_module": "@jupyter-widgets/controls",
            "children": [
              "IPY_MODEL_deb6b126582845bcb7ff10f1cebec7b1",
              "IPY_MODEL_5bc01c4ab3b04aea86f4321812f93eed"
            ]
          }
        },
        "e945cb7be762482983259662a22dd8ae": {
          "model_module": "@jupyter-widgets/base",
          "model_name": "LayoutModel",
          "state": {
            "_view_name": "LayoutView",
            "grid_template_rows": null,
            "right": null,
            "justify_content": null,
            "_view_module": "@jupyter-widgets/base",
            "overflow": null,
            "_model_module_version": "1.2.0",
            "_view_count": null,
            "flex_flow": null,
            "width": null,
            "min_width": null,
            "border": null,
            "align_items": null,
            "bottom": null,
            "_model_module": "@jupyter-widgets/base",
            "top": null,
            "grid_column": null,
            "overflow_y": null,
            "overflow_x": null,
            "grid_auto_flow": null,
            "grid_area": null,
            "grid_template_columns": null,
            "flex": null,
            "_model_name": "LayoutModel",
            "justify_items": null,
            "grid_row": null,
            "max_height": null,
            "align_content": null,
            "visibility": null,
            "align_self": null,
            "height": null,
            "min_height": null,
            "padding": null,
            "grid_auto_rows": null,
            "grid_gap": null,
            "max_width": null,
            "order": null,
            "_view_module_version": "1.2.0",
            "grid_template_areas": null,
            "object_position": null,
            "object_fit": null,
            "grid_auto_columns": null,
            "margin": null,
            "display": null,
            "left": null
          }
        },
        "deb6b126582845bcb7ff10f1cebec7b1": {
          "model_module": "@jupyter-widgets/controls",
          "model_name": "FloatProgressModel",
          "state": {
            "_view_name": "ProgressView",
            "style": "IPY_MODEL_e0391c1d72a14486898e23fbe92cfb73",
            "_dom_classes": [],
            "description": "Summarize dataset: 100%",
            "_model_name": "FloatProgressModel",
            "bar_style": "success",
            "max": 50,
            "_view_module": "@jupyter-widgets/controls",
            "_model_module_version": "1.5.0",
            "value": 50,
            "_view_count": null,
            "_view_module_version": "1.5.0",
            "orientation": "horizontal",
            "min": 0,
            "description_tooltip": null,
            "_model_module": "@jupyter-widgets/controls",
            "layout": "IPY_MODEL_94c19a533c0b4190aa6d512f9f554b49"
          }
        },
        "5bc01c4ab3b04aea86f4321812f93eed": {
          "model_module": "@jupyter-widgets/controls",
          "model_name": "HTMLModel",
          "state": {
            "_view_name": "HTMLView",
            "style": "IPY_MODEL_388442ee2da0444692b9f3cd345e9c74",
            "_dom_classes": [],
            "description": "",
            "_model_name": "HTMLModel",
            "placeholder": "​",
            "_view_module": "@jupyter-widgets/controls",
            "_model_module_version": "1.5.0",
            "value": " 50/50 [00:27&lt;00:00,  1.81it/s, Completed]",
            "_view_count": null,
            "_view_module_version": "1.5.0",
            "description_tooltip": null,
            "_model_module": "@jupyter-widgets/controls",
            "layout": "IPY_MODEL_612a13b4c585427b89c304ae67ff09bf"
          }
        },
        "e0391c1d72a14486898e23fbe92cfb73": {
          "model_module": "@jupyter-widgets/controls",
          "model_name": "ProgressStyleModel",
          "state": {
            "_view_name": "StyleView",
            "_model_name": "ProgressStyleModel",
            "description_width": "initial",
            "_view_module": "@jupyter-widgets/base",
            "_model_module_version": "1.5.0",
            "_view_count": null,
            "_view_module_version": "1.2.0",
            "bar_color": null,
            "_model_module": "@jupyter-widgets/controls"
          }
        },
        "94c19a533c0b4190aa6d512f9f554b49": {
          "model_module": "@jupyter-widgets/base",
          "model_name": "LayoutModel",
          "state": {
            "_view_name": "LayoutView",
            "grid_template_rows": null,
            "right": null,
            "justify_content": null,
            "_view_module": "@jupyter-widgets/base",
            "overflow": null,
            "_model_module_version": "1.2.0",
            "_view_count": null,
            "flex_flow": null,
            "width": null,
            "min_width": null,
            "border": null,
            "align_items": null,
            "bottom": null,
            "_model_module": "@jupyter-widgets/base",
            "top": null,
            "grid_column": null,
            "overflow_y": null,
            "overflow_x": null,
            "grid_auto_flow": null,
            "grid_area": null,
            "grid_template_columns": null,
            "flex": null,
            "_model_name": "LayoutModel",
            "justify_items": null,
            "grid_row": null,
            "max_height": null,
            "align_content": null,
            "visibility": null,
            "align_self": null,
            "height": null,
            "min_height": null,
            "padding": null,
            "grid_auto_rows": null,
            "grid_gap": null,
            "max_width": null,
            "order": null,
            "_view_module_version": "1.2.0",
            "grid_template_areas": null,
            "object_position": null,
            "object_fit": null,
            "grid_auto_columns": null,
            "margin": null,
            "display": null,
            "left": null
          }
        },
        "388442ee2da0444692b9f3cd345e9c74": {
          "model_module": "@jupyter-widgets/controls",
          "model_name": "DescriptionStyleModel",
          "state": {
            "_view_name": "StyleView",
            "_model_name": "DescriptionStyleModel",
            "description_width": "",
            "_view_module": "@jupyter-widgets/base",
            "_model_module_version": "1.5.0",
            "_view_count": null,
            "_view_module_version": "1.2.0",
            "_model_module": "@jupyter-widgets/controls"
          }
        },
        "612a13b4c585427b89c304ae67ff09bf": {
          "model_module": "@jupyter-widgets/base",
          "model_name": "LayoutModel",
          "state": {
            "_view_name": "LayoutView",
            "grid_template_rows": null,
            "right": null,
            "justify_content": null,
            "_view_module": "@jupyter-widgets/base",
            "overflow": null,
            "_model_module_version": "1.2.0",
            "_view_count": null,
            "flex_flow": null,
            "width": null,
            "min_width": null,
            "border": null,
            "align_items": null,
            "bottom": null,
            "_model_module": "@jupyter-widgets/base",
            "top": null,
            "grid_column": null,
            "overflow_y": null,
            "overflow_x": null,
            "grid_auto_flow": null,
            "grid_area": null,
            "grid_template_columns": null,
            "flex": null,
            "_model_name": "LayoutModel",
            "justify_items": null,
            "grid_row": null,
            "max_height": null,
            "align_content": null,
            "visibility": null,
            "align_self": null,
            "height": null,
            "min_height": null,
            "padding": null,
            "grid_auto_rows": null,
            "grid_gap": null,
            "max_width": null,
            "order": null,
            "_view_module_version": "1.2.0",
            "grid_template_areas": null,
            "object_position": null,
            "object_fit": null,
            "grid_auto_columns": null,
            "margin": null,
            "display": null,
            "left": null
          }
        },
        "a6849b1c6943470b88ef8d43ba4aea28": {
          "model_module": "@jupyter-widgets/controls",
          "model_name": "HBoxModel",
          "state": {
            "_view_name": "HBoxView",
            "_dom_classes": [],
            "_model_name": "HBoxModel",
            "_view_module": "@jupyter-widgets/controls",
            "_model_module_version": "1.5.0",
            "_view_count": null,
            "_view_module_version": "1.5.0",
            "box_style": "",
            "layout": "IPY_MODEL_fc1dee68ee4542b682a4fdc4fca171d6",
            "_model_module": "@jupyter-widgets/controls",
            "children": [
              "IPY_MODEL_e7945484268146a281ed0bc11938bb17",
              "IPY_MODEL_355b84e671f547a5a295ada7fe30cb84"
            ]
          }
        },
        "fc1dee68ee4542b682a4fdc4fca171d6": {
          "model_module": "@jupyter-widgets/base",
          "model_name": "LayoutModel",
          "state": {
            "_view_name": "LayoutView",
            "grid_template_rows": null,
            "right": null,
            "justify_content": null,
            "_view_module": "@jupyter-widgets/base",
            "overflow": null,
            "_model_module_version": "1.2.0",
            "_view_count": null,
            "flex_flow": null,
            "width": null,
            "min_width": null,
            "border": null,
            "align_items": null,
            "bottom": null,
            "_model_module": "@jupyter-widgets/base",
            "top": null,
            "grid_column": null,
            "overflow_y": null,
            "overflow_x": null,
            "grid_auto_flow": null,
            "grid_area": null,
            "grid_template_columns": null,
            "flex": null,
            "_model_name": "LayoutModel",
            "justify_items": null,
            "grid_row": null,
            "max_height": null,
            "align_content": null,
            "visibility": null,
            "align_self": null,
            "height": null,
            "min_height": null,
            "padding": null,
            "grid_auto_rows": null,
            "grid_gap": null,
            "max_width": null,
            "order": null,
            "_view_module_version": "1.2.0",
            "grid_template_areas": null,
            "object_position": null,
            "object_fit": null,
            "grid_auto_columns": null,
            "margin": null,
            "display": null,
            "left": null
          }
        },
        "e7945484268146a281ed0bc11938bb17": {
          "model_module": "@jupyter-widgets/controls",
          "model_name": "FloatProgressModel",
          "state": {
            "_view_name": "ProgressView",
            "style": "IPY_MODEL_d2fa7fd42f0c4a779eef3af0acf02cbb",
            "_dom_classes": [],
            "description": "Generate report structure: 100%",
            "_model_name": "FloatProgressModel",
            "bar_style": "success",
            "max": 1,
            "_view_module": "@jupyter-widgets/controls",
            "_model_module_version": "1.5.0",
            "value": 1,
            "_view_count": null,
            "_view_module_version": "1.5.0",
            "orientation": "horizontal",
            "min": 0,
            "description_tooltip": null,
            "_model_module": "@jupyter-widgets/controls",
            "layout": "IPY_MODEL_5a5b191fc8c948ea8a49da82e62159ed"
          }
        },
        "355b84e671f547a5a295ada7fe30cb84": {
          "model_module": "@jupyter-widgets/controls",
          "model_name": "HTMLModel",
          "state": {
            "_view_name": "HTMLView",
            "style": "IPY_MODEL_1a5497bb18b54724b7fc3b0622d790d7",
            "_dom_classes": [],
            "description": "",
            "_model_name": "HTMLModel",
            "placeholder": "​",
            "_view_module": "@jupyter-widgets/controls",
            "_model_module_version": "1.5.0",
            "value": " 1/1 [00:20&lt;00:00, 20.14s/it]",
            "_view_count": null,
            "_view_module_version": "1.5.0",
            "description_tooltip": null,
            "_model_module": "@jupyter-widgets/controls",
            "layout": "IPY_MODEL_5add664a085d4d3abf04f3cb75df11ba"
          }
        },
        "d2fa7fd42f0c4a779eef3af0acf02cbb": {
          "model_module": "@jupyter-widgets/controls",
          "model_name": "ProgressStyleModel",
          "state": {
            "_view_name": "StyleView",
            "_model_name": "ProgressStyleModel",
            "description_width": "initial",
            "_view_module": "@jupyter-widgets/base",
            "_model_module_version": "1.5.0",
            "_view_count": null,
            "_view_module_version": "1.2.0",
            "bar_color": null,
            "_model_module": "@jupyter-widgets/controls"
          }
        },
        "5a5b191fc8c948ea8a49da82e62159ed": {
          "model_module": "@jupyter-widgets/base",
          "model_name": "LayoutModel",
          "state": {
            "_view_name": "LayoutView",
            "grid_template_rows": null,
            "right": null,
            "justify_content": null,
            "_view_module": "@jupyter-widgets/base",
            "overflow": null,
            "_model_module_version": "1.2.0",
            "_view_count": null,
            "flex_flow": null,
            "width": null,
            "min_width": null,
            "border": null,
            "align_items": null,
            "bottom": null,
            "_model_module": "@jupyter-widgets/base",
            "top": null,
            "grid_column": null,
            "overflow_y": null,
            "overflow_x": null,
            "grid_auto_flow": null,
            "grid_area": null,
            "grid_template_columns": null,
            "flex": null,
            "_model_name": "LayoutModel",
            "justify_items": null,
            "grid_row": null,
            "max_height": null,
            "align_content": null,
            "visibility": null,
            "align_self": null,
            "height": null,
            "min_height": null,
            "padding": null,
            "grid_auto_rows": null,
            "grid_gap": null,
            "max_width": null,
            "order": null,
            "_view_module_version": "1.2.0",
            "grid_template_areas": null,
            "object_position": null,
            "object_fit": null,
            "grid_auto_columns": null,
            "margin": null,
            "display": null,
            "left": null
          }
        },
        "1a5497bb18b54724b7fc3b0622d790d7": {
          "model_module": "@jupyter-widgets/controls",
          "model_name": "DescriptionStyleModel",
          "state": {
            "_view_name": "StyleView",
            "_model_name": "DescriptionStyleModel",
            "description_width": "",
            "_view_module": "@jupyter-widgets/base",
            "_model_module_version": "1.5.0",
            "_view_count": null,
            "_view_module_version": "1.2.0",
            "_model_module": "@jupyter-widgets/controls"
          }
        },
        "5add664a085d4d3abf04f3cb75df11ba": {
          "model_module": "@jupyter-widgets/base",
          "model_name": "LayoutModel",
          "state": {
            "_view_name": "LayoutView",
            "grid_template_rows": null,
            "right": null,
            "justify_content": null,
            "_view_module": "@jupyter-widgets/base",
            "overflow": null,
            "_model_module_version": "1.2.0",
            "_view_count": null,
            "flex_flow": null,
            "width": null,
            "min_width": null,
            "border": null,
            "align_items": null,
            "bottom": null,
            "_model_module": "@jupyter-widgets/base",
            "top": null,
            "grid_column": null,
            "overflow_y": null,
            "overflow_x": null,
            "grid_auto_flow": null,
            "grid_area": null,
            "grid_template_columns": null,
            "flex": null,
            "_model_name": "LayoutModel",
            "justify_items": null,
            "grid_row": null,
            "max_height": null,
            "align_content": null,
            "visibility": null,
            "align_self": null,
            "height": null,
            "min_height": null,
            "padding": null,
            "grid_auto_rows": null,
            "grid_gap": null,
            "max_width": null,
            "order": null,
            "_view_module_version": "1.2.0",
            "grid_template_areas": null,
            "object_position": null,
            "object_fit": null,
            "grid_auto_columns": null,
            "margin": null,
            "display": null,
            "left": null
          }
        },
        "7b819c6bf3ea4774a6c3d44eb51a124b": {
          "model_module": "@jupyter-widgets/controls",
          "model_name": "HBoxModel",
          "state": {
            "_view_name": "HBoxView",
            "_dom_classes": [],
            "_model_name": "HBoxModel",
            "_view_module": "@jupyter-widgets/controls",
            "_model_module_version": "1.5.0",
            "_view_count": null,
            "_view_module_version": "1.5.0",
            "box_style": "",
            "layout": "IPY_MODEL_4b16f4371b8f4d61b5a4ca15a77bd147",
            "_model_module": "@jupyter-widgets/controls",
            "children": [
              "IPY_MODEL_9d24fe1c3ac544a598ab3a958eb3f69b",
              "IPY_MODEL_5eee652048754d7d894b2d5c73dfed10"
            ]
          }
        },
        "4b16f4371b8f4d61b5a4ca15a77bd147": {
          "model_module": "@jupyter-widgets/base",
          "model_name": "LayoutModel",
          "state": {
            "_view_name": "LayoutView",
            "grid_template_rows": null,
            "right": null,
            "justify_content": null,
            "_view_module": "@jupyter-widgets/base",
            "overflow": null,
            "_model_module_version": "1.2.0",
            "_view_count": null,
            "flex_flow": null,
            "width": null,
            "min_width": null,
            "border": null,
            "align_items": null,
            "bottom": null,
            "_model_module": "@jupyter-widgets/base",
            "top": null,
            "grid_column": null,
            "overflow_y": null,
            "overflow_x": null,
            "grid_auto_flow": null,
            "grid_area": null,
            "grid_template_columns": null,
            "flex": null,
            "_model_name": "LayoutModel",
            "justify_items": null,
            "grid_row": null,
            "max_height": null,
            "align_content": null,
            "visibility": null,
            "align_self": null,
            "height": null,
            "min_height": null,
            "padding": null,
            "grid_auto_rows": null,
            "grid_gap": null,
            "max_width": null,
            "order": null,
            "_view_module_version": "1.2.0",
            "grid_template_areas": null,
            "object_position": null,
            "object_fit": null,
            "grid_auto_columns": null,
            "margin": null,
            "display": null,
            "left": null
          }
        },
        "9d24fe1c3ac544a598ab3a958eb3f69b": {
          "model_module": "@jupyter-widgets/controls",
          "model_name": "FloatProgressModel",
          "state": {
            "_view_name": "ProgressView",
            "style": "IPY_MODEL_434730b01e264846abd3e1b6a9f4c97b",
            "_dom_classes": [],
            "description": "Render HTML: 100%",
            "_model_name": "FloatProgressModel",
            "bar_style": "success",
            "max": 1,
            "_view_module": "@jupyter-widgets/controls",
            "_model_module_version": "1.5.0",
            "value": 1,
            "_view_count": null,
            "_view_module_version": "1.5.0",
            "orientation": "horizontal",
            "min": 0,
            "description_tooltip": null,
            "_model_module": "@jupyter-widgets/controls",
            "layout": "IPY_MODEL_cc9e0e180c4241b8a52f47cca7acc0e7"
          }
        },
        "5eee652048754d7d894b2d5c73dfed10": {
          "model_module": "@jupyter-widgets/controls",
          "model_name": "HTMLModel",
          "state": {
            "_view_name": "HTMLView",
            "style": "IPY_MODEL_73df04b2432a4c7b89db040bdea38e32",
            "_dom_classes": [],
            "description": "",
            "_model_name": "HTMLModel",
            "placeholder": "​",
            "_view_module": "@jupyter-widgets/controls",
            "_model_module_version": "1.5.0",
            "value": " 1/1 [00:04&lt;00:00,  4.15s/it]",
            "_view_count": null,
            "_view_module_version": "1.5.0",
            "description_tooltip": null,
            "_model_module": "@jupyter-widgets/controls",
            "layout": "IPY_MODEL_71059d1a08d8464c883b4ce0031964a6"
          }
        },
        "434730b01e264846abd3e1b6a9f4c97b": {
          "model_module": "@jupyter-widgets/controls",
          "model_name": "ProgressStyleModel",
          "state": {
            "_view_name": "StyleView",
            "_model_name": "ProgressStyleModel",
            "description_width": "initial",
            "_view_module": "@jupyter-widgets/base",
            "_model_module_version": "1.5.0",
            "_view_count": null,
            "_view_module_version": "1.2.0",
            "bar_color": null,
            "_model_module": "@jupyter-widgets/controls"
          }
        },
        "cc9e0e180c4241b8a52f47cca7acc0e7": {
          "model_module": "@jupyter-widgets/base",
          "model_name": "LayoutModel",
          "state": {
            "_view_name": "LayoutView",
            "grid_template_rows": null,
            "right": null,
            "justify_content": null,
            "_view_module": "@jupyter-widgets/base",
            "overflow": null,
            "_model_module_version": "1.2.0",
            "_view_count": null,
            "flex_flow": null,
            "width": null,
            "min_width": null,
            "border": null,
            "align_items": null,
            "bottom": null,
            "_model_module": "@jupyter-widgets/base",
            "top": null,
            "grid_column": null,
            "overflow_y": null,
            "overflow_x": null,
            "grid_auto_flow": null,
            "grid_area": null,
            "grid_template_columns": null,
            "flex": null,
            "_model_name": "LayoutModel",
            "justify_items": null,
            "grid_row": null,
            "max_height": null,
            "align_content": null,
            "visibility": null,
            "align_self": null,
            "height": null,
            "min_height": null,
            "padding": null,
            "grid_auto_rows": null,
            "grid_gap": null,
            "max_width": null,
            "order": null,
            "_view_module_version": "1.2.0",
            "grid_template_areas": null,
            "object_position": null,
            "object_fit": null,
            "grid_auto_columns": null,
            "margin": null,
            "display": null,
            "left": null
          }
        },
        "73df04b2432a4c7b89db040bdea38e32": {
          "model_module": "@jupyter-widgets/controls",
          "model_name": "DescriptionStyleModel",
          "state": {
            "_view_name": "StyleView",
            "_model_name": "DescriptionStyleModel",
            "description_width": "",
            "_view_module": "@jupyter-widgets/base",
            "_model_module_version": "1.5.0",
            "_view_count": null,
            "_view_module_version": "1.2.0",
            "_model_module": "@jupyter-widgets/controls"
          }
        },
        "71059d1a08d8464c883b4ce0031964a6": {
          "model_module": "@jupyter-widgets/base",
          "model_name": "LayoutModel",
          "state": {
            "_view_name": "LayoutView",
            "grid_template_rows": null,
            "right": null,
            "justify_content": null,
            "_view_module": "@jupyter-widgets/base",
            "overflow": null,
            "_model_module_version": "1.2.0",
            "_view_count": null,
            "flex_flow": null,
            "width": null,
            "min_width": null,
            "border": null,
            "align_items": null,
            "bottom": null,
            "_model_module": "@jupyter-widgets/base",
            "top": null,
            "grid_column": null,
            "overflow_y": null,
            "overflow_x": null,
            "grid_auto_flow": null,
            "grid_area": null,
            "grid_template_columns": null,
            "flex": null,
            "_model_name": "LayoutModel",
            "justify_items": null,
            "grid_row": null,
            "max_height": null,
            "align_content": null,
            "visibility": null,
            "align_self": null,
            "height": null,
            "min_height": null,
            "padding": null,
            "grid_auto_rows": null,
            "grid_gap": null,
            "max_width": null,
            "order": null,
            "_view_module_version": "1.2.0",
            "grid_template_areas": null,
            "object_position": null,
            "object_fit": null,
            "grid_auto_columns": null,
            "margin": null,
            "display": null,
            "left": null
          }
        },
        "ecf3be2791e84388b8ab680de981e9dd": {
          "model_module": "@jupyter-widgets/controls",
          "model_name": "HBoxModel",
          "state": {
            "_view_name": "HBoxView",
            "_dom_classes": [],
            "_model_name": "HBoxModel",
            "_view_module": "@jupyter-widgets/controls",
            "_model_module_version": "1.5.0",
            "_view_count": null,
            "_view_module_version": "1.5.0",
            "box_style": "",
            "layout": "IPY_MODEL_6927d3501904404faaff6426cf5db232",
            "_model_module": "@jupyter-widgets/controls",
            "children": [
              "IPY_MODEL_956b3806b0f345a4b0f2307deac9d3ab",
              "IPY_MODEL_f733d6ef11d644d29aec191f821e4994"
            ]
          }
        },
        "6927d3501904404faaff6426cf5db232": {
          "model_module": "@jupyter-widgets/base",
          "model_name": "LayoutModel",
          "state": {
            "_view_name": "LayoutView",
            "grid_template_rows": null,
            "right": null,
            "justify_content": null,
            "_view_module": "@jupyter-widgets/base",
            "overflow": null,
            "_model_module_version": "1.2.0",
            "_view_count": null,
            "flex_flow": null,
            "width": null,
            "min_width": null,
            "border": null,
            "align_items": null,
            "bottom": null,
            "_model_module": "@jupyter-widgets/base",
            "top": null,
            "grid_column": null,
            "overflow_y": null,
            "overflow_x": null,
            "grid_auto_flow": null,
            "grid_area": null,
            "grid_template_columns": null,
            "flex": null,
            "_model_name": "LayoutModel",
            "justify_items": null,
            "grid_row": null,
            "max_height": null,
            "align_content": null,
            "visibility": null,
            "align_self": null,
            "height": null,
            "min_height": null,
            "padding": null,
            "grid_auto_rows": null,
            "grid_gap": null,
            "max_width": null,
            "order": null,
            "_view_module_version": "1.2.0",
            "grid_template_areas": null,
            "object_position": null,
            "object_fit": null,
            "grid_auto_columns": null,
            "margin": null,
            "display": null,
            "left": null
          }
        },
        "956b3806b0f345a4b0f2307deac9d3ab": {
          "model_module": "@jupyter-widgets/controls",
          "model_name": "FloatProgressModel",
          "state": {
            "_view_name": "ProgressView",
            "style": "IPY_MODEL_ba281701beda402590f63a1197fa1ade",
            "_dom_classes": [],
            "description": "Export report to file: 100%",
            "_model_name": "FloatProgressModel",
            "bar_style": "success",
            "max": 1,
            "_view_module": "@jupyter-widgets/controls",
            "_model_module_version": "1.5.0",
            "value": 1,
            "_view_count": null,
            "_view_module_version": "1.5.0",
            "orientation": "horizontal",
            "min": 0,
            "description_tooltip": null,
            "_model_module": "@jupyter-widgets/controls",
            "layout": "IPY_MODEL_4c8314c971444bd1858570f16ad37b65"
          }
        },
        "f733d6ef11d644d29aec191f821e4994": {
          "model_module": "@jupyter-widgets/controls",
          "model_name": "HTMLModel",
          "state": {
            "_view_name": "HTMLView",
            "style": "IPY_MODEL_42dc4bc464a841cc8e65d5495ce61c81",
            "_dom_classes": [],
            "description": "",
            "_model_name": "HTMLModel",
            "placeholder": "​",
            "_view_module": "@jupyter-widgets/controls",
            "_model_module_version": "1.5.0",
            "value": " 1/1 [00:00&lt;00:00, 10.96it/s]",
            "_view_count": null,
            "_view_module_version": "1.5.0",
            "description_tooltip": null,
            "_model_module": "@jupyter-widgets/controls",
            "layout": "IPY_MODEL_d3e3b8c91c734d93a62ee1de634956e0"
          }
        },
        "ba281701beda402590f63a1197fa1ade": {
          "model_module": "@jupyter-widgets/controls",
          "model_name": "ProgressStyleModel",
          "state": {
            "_view_name": "StyleView",
            "_model_name": "ProgressStyleModel",
            "description_width": "initial",
            "_view_module": "@jupyter-widgets/base",
            "_model_module_version": "1.5.0",
            "_view_count": null,
            "_view_module_version": "1.2.0",
            "bar_color": null,
            "_model_module": "@jupyter-widgets/controls"
          }
        },
        "4c8314c971444bd1858570f16ad37b65": {
          "model_module": "@jupyter-widgets/base",
          "model_name": "LayoutModel",
          "state": {
            "_view_name": "LayoutView",
            "grid_template_rows": null,
            "right": null,
            "justify_content": null,
            "_view_module": "@jupyter-widgets/base",
            "overflow": null,
            "_model_module_version": "1.2.0",
            "_view_count": null,
            "flex_flow": null,
            "width": null,
            "min_width": null,
            "border": null,
            "align_items": null,
            "bottom": null,
            "_model_module": "@jupyter-widgets/base",
            "top": null,
            "grid_column": null,
            "overflow_y": null,
            "overflow_x": null,
            "grid_auto_flow": null,
            "grid_area": null,
            "grid_template_columns": null,
            "flex": null,
            "_model_name": "LayoutModel",
            "justify_items": null,
            "grid_row": null,
            "max_height": null,
            "align_content": null,
            "visibility": null,
            "align_self": null,
            "height": null,
            "min_height": null,
            "padding": null,
            "grid_auto_rows": null,
            "grid_gap": null,
            "max_width": null,
            "order": null,
            "_view_module_version": "1.2.0",
            "grid_template_areas": null,
            "object_position": null,
            "object_fit": null,
            "grid_auto_columns": null,
            "margin": null,
            "display": null,
            "left": null
          }
        },
        "42dc4bc464a841cc8e65d5495ce61c81": {
          "model_module": "@jupyter-widgets/controls",
          "model_name": "DescriptionStyleModel",
          "state": {
            "_view_name": "StyleView",
            "_model_name": "DescriptionStyleModel",
            "description_width": "",
            "_view_module": "@jupyter-widgets/base",
            "_model_module_version": "1.5.0",
            "_view_count": null,
            "_view_module_version": "1.2.0",
            "_model_module": "@jupyter-widgets/controls"
          }
        },
        "d3e3b8c91c734d93a62ee1de634956e0": {
          "model_module": "@jupyter-widgets/base",
          "model_name": "LayoutModel",
          "state": {
            "_view_name": "LayoutView",
            "grid_template_rows": null,
            "right": null,
            "justify_content": null,
            "_view_module": "@jupyter-widgets/base",
            "overflow": null,
            "_model_module_version": "1.2.0",
            "_view_count": null,
            "flex_flow": null,
            "width": null,
            "min_width": null,
            "border": null,
            "align_items": null,
            "bottom": null,
            "_model_module": "@jupyter-widgets/base",
            "top": null,
            "grid_column": null,
            "overflow_y": null,
            "overflow_x": null,
            "grid_auto_flow": null,
            "grid_area": null,
            "grid_template_columns": null,
            "flex": null,
            "_model_name": "LayoutModel",
            "justify_items": null,
            "grid_row": null,
            "max_height": null,
            "align_content": null,
            "visibility": null,
            "align_self": null,
            "height": null,
            "min_height": null,
            "padding": null,
            "grid_auto_rows": null,
            "grid_gap": null,
            "max_width": null,
            "order": null,
            "_view_module_version": "1.2.0",
            "grid_template_areas": null,
            "object_position": null,
            "object_fit": null,
            "grid_auto_columns": null,
            "margin": null,
            "display": null,
            "left": null
          }
        },
        "6cd0346d335843cab7622ff456b9abd5": {
          "model_module": "@jupyter-widgets/controls",
          "model_name": "HBoxModel",
          "state": {
            "_view_name": "HBoxView",
            "_dom_classes": [],
            "_model_name": "HBoxModel",
            "_view_module": "@jupyter-widgets/controls",
            "_model_module_version": "1.5.0",
            "_view_count": null,
            "_view_module_version": "1.5.0",
            "box_style": "",
            "layout": "IPY_MODEL_e3848cedb9674167a2fdc18bbfcb4d60",
            "_model_module": "@jupyter-widgets/controls",
            "children": [
              "IPY_MODEL_1211a86755f9478c9f82de2aaedfb433",
              "IPY_MODEL_ce1371838ca849ee895e97cc4098906a"
            ]
          }
        },
        "e3848cedb9674167a2fdc18bbfcb4d60": {
          "model_module": "@jupyter-widgets/base",
          "model_name": "LayoutModel",
          "state": {
            "_view_name": "LayoutView",
            "grid_template_rows": null,
            "right": null,
            "justify_content": null,
            "_view_module": "@jupyter-widgets/base",
            "overflow": null,
            "_model_module_version": "1.2.0",
            "_view_count": null,
            "flex_flow": null,
            "width": null,
            "min_width": null,
            "border": null,
            "align_items": null,
            "bottom": null,
            "_model_module": "@jupyter-widgets/base",
            "top": null,
            "grid_column": null,
            "overflow_y": null,
            "overflow_x": null,
            "grid_auto_flow": null,
            "grid_area": null,
            "grid_template_columns": null,
            "flex": null,
            "_model_name": "LayoutModel",
            "justify_items": null,
            "grid_row": null,
            "max_height": null,
            "align_content": null,
            "visibility": null,
            "align_self": null,
            "height": null,
            "min_height": null,
            "padding": null,
            "grid_auto_rows": null,
            "grid_gap": null,
            "max_width": null,
            "order": null,
            "_view_module_version": "1.2.0",
            "grid_template_areas": null,
            "object_position": null,
            "object_fit": null,
            "grid_auto_columns": null,
            "margin": null,
            "display": null,
            "left": null
          }
        },
        "1211a86755f9478c9f82de2aaedfb433": {
          "model_module": "@jupyter-widgets/controls",
          "model_name": "FloatProgressModel",
          "state": {
            "_view_name": "ProgressView",
            "style": "IPY_MODEL_23c4901dc4f24008b128f1711f766f6c",
            "_dom_classes": [],
            "description": "Summarize dataset: 100%",
            "_model_name": "FloatProgressModel",
            "bar_style": "success",
            "max": 31,
            "_view_module": "@jupyter-widgets/controls",
            "_model_module_version": "1.5.0",
            "value": 31,
            "_view_count": null,
            "_view_module_version": "1.5.0",
            "orientation": "horizontal",
            "min": 0,
            "description_tooltip": null,
            "_model_module": "@jupyter-widgets/controls",
            "layout": "IPY_MODEL_6951efc3f35947d5b5fc302eb2001cc6"
          }
        },
        "ce1371838ca849ee895e97cc4098906a": {
          "model_module": "@jupyter-widgets/controls",
          "model_name": "HTMLModel",
          "state": {
            "_view_name": "HTMLView",
            "style": "IPY_MODEL_ce879a71db48421e9bbd7bb6daae7bdb",
            "_dom_classes": [],
            "description": "",
            "_model_name": "HTMLModel",
            "placeholder": "​",
            "_view_module": "@jupyter-widgets/controls",
            "_model_module_version": "1.5.0",
            "value": " 31/31 [00:06&lt;00:00,  4.91it/s, Completed]",
            "_view_count": null,
            "_view_module_version": "1.5.0",
            "description_tooltip": null,
            "_model_module": "@jupyter-widgets/controls",
            "layout": "IPY_MODEL_36431bd6d0234c66a454c2aa0f94aab9"
          }
        },
        "23c4901dc4f24008b128f1711f766f6c": {
          "model_module": "@jupyter-widgets/controls",
          "model_name": "ProgressStyleModel",
          "state": {
            "_view_name": "StyleView",
            "_model_name": "ProgressStyleModel",
            "description_width": "initial",
            "_view_module": "@jupyter-widgets/base",
            "_model_module_version": "1.5.0",
            "_view_count": null,
            "_view_module_version": "1.2.0",
            "bar_color": null,
            "_model_module": "@jupyter-widgets/controls"
          }
        },
        "6951efc3f35947d5b5fc302eb2001cc6": {
          "model_module": "@jupyter-widgets/base",
          "model_name": "LayoutModel",
          "state": {
            "_view_name": "LayoutView",
            "grid_template_rows": null,
            "right": null,
            "justify_content": null,
            "_view_module": "@jupyter-widgets/base",
            "overflow": null,
            "_model_module_version": "1.2.0",
            "_view_count": null,
            "flex_flow": null,
            "width": null,
            "min_width": null,
            "border": null,
            "align_items": null,
            "bottom": null,
            "_model_module": "@jupyter-widgets/base",
            "top": null,
            "grid_column": null,
            "overflow_y": null,
            "overflow_x": null,
            "grid_auto_flow": null,
            "grid_area": null,
            "grid_template_columns": null,
            "flex": null,
            "_model_name": "LayoutModel",
            "justify_items": null,
            "grid_row": null,
            "max_height": null,
            "align_content": null,
            "visibility": null,
            "align_self": null,
            "height": null,
            "min_height": null,
            "padding": null,
            "grid_auto_rows": null,
            "grid_gap": null,
            "max_width": null,
            "order": null,
            "_view_module_version": "1.2.0",
            "grid_template_areas": null,
            "object_position": null,
            "object_fit": null,
            "grid_auto_columns": null,
            "margin": null,
            "display": null,
            "left": null
          }
        },
        "ce879a71db48421e9bbd7bb6daae7bdb": {
          "model_module": "@jupyter-widgets/controls",
          "model_name": "DescriptionStyleModel",
          "state": {
            "_view_name": "StyleView",
            "_model_name": "DescriptionStyleModel",
            "description_width": "",
            "_view_module": "@jupyter-widgets/base",
            "_model_module_version": "1.5.0",
            "_view_count": null,
            "_view_module_version": "1.2.0",
            "_model_module": "@jupyter-widgets/controls"
          }
        },
        "36431bd6d0234c66a454c2aa0f94aab9": {
          "model_module": "@jupyter-widgets/base",
          "model_name": "LayoutModel",
          "state": {
            "_view_name": "LayoutView",
            "grid_template_rows": null,
            "right": null,
            "justify_content": null,
            "_view_module": "@jupyter-widgets/base",
            "overflow": null,
            "_model_module_version": "1.2.0",
            "_view_count": null,
            "flex_flow": null,
            "width": null,
            "min_width": null,
            "border": null,
            "align_items": null,
            "bottom": null,
            "_model_module": "@jupyter-widgets/base",
            "top": null,
            "grid_column": null,
            "overflow_y": null,
            "overflow_x": null,
            "grid_auto_flow": null,
            "grid_area": null,
            "grid_template_columns": null,
            "flex": null,
            "_model_name": "LayoutModel",
            "justify_items": null,
            "grid_row": null,
            "max_height": null,
            "align_content": null,
            "visibility": null,
            "align_self": null,
            "height": null,
            "min_height": null,
            "padding": null,
            "grid_auto_rows": null,
            "grid_gap": null,
            "max_width": null,
            "order": null,
            "_view_module_version": "1.2.0",
            "grid_template_areas": null,
            "object_position": null,
            "object_fit": null,
            "grid_auto_columns": null,
            "margin": null,
            "display": null,
            "left": null
          }
        },
        "35d62f6a9c0d4c419e62ac407a14c61b": {
          "model_module": "@jupyter-widgets/controls",
          "model_name": "HBoxModel",
          "state": {
            "_view_name": "HBoxView",
            "_dom_classes": [],
            "_model_name": "HBoxModel",
            "_view_module": "@jupyter-widgets/controls",
            "_model_module_version": "1.5.0",
            "_view_count": null,
            "_view_module_version": "1.5.0",
            "box_style": "",
            "layout": "IPY_MODEL_ec3d066ba1394a50afbbab17bb0b70e0",
            "_model_module": "@jupyter-widgets/controls",
            "children": [
              "IPY_MODEL_a6be8ba3d8d941309e6b5a592757a283",
              "IPY_MODEL_8191f46abd14451aa0d9ecf48b51bfe9"
            ]
          }
        },
        "ec3d066ba1394a50afbbab17bb0b70e0": {
          "model_module": "@jupyter-widgets/base",
          "model_name": "LayoutModel",
          "state": {
            "_view_name": "LayoutView",
            "grid_template_rows": null,
            "right": null,
            "justify_content": null,
            "_view_module": "@jupyter-widgets/base",
            "overflow": null,
            "_model_module_version": "1.2.0",
            "_view_count": null,
            "flex_flow": null,
            "width": null,
            "min_width": null,
            "border": null,
            "align_items": null,
            "bottom": null,
            "_model_module": "@jupyter-widgets/base",
            "top": null,
            "grid_column": null,
            "overflow_y": null,
            "overflow_x": null,
            "grid_auto_flow": null,
            "grid_area": null,
            "grid_template_columns": null,
            "flex": null,
            "_model_name": "LayoutModel",
            "justify_items": null,
            "grid_row": null,
            "max_height": null,
            "align_content": null,
            "visibility": null,
            "align_self": null,
            "height": null,
            "min_height": null,
            "padding": null,
            "grid_auto_rows": null,
            "grid_gap": null,
            "max_width": null,
            "order": null,
            "_view_module_version": "1.2.0",
            "grid_template_areas": null,
            "object_position": null,
            "object_fit": null,
            "grid_auto_columns": null,
            "margin": null,
            "display": null,
            "left": null
          }
        },
        "a6be8ba3d8d941309e6b5a592757a283": {
          "model_module": "@jupyter-widgets/controls",
          "model_name": "FloatProgressModel",
          "state": {
            "_view_name": "ProgressView",
            "style": "IPY_MODEL_71f91056202b4f3ab621dd0ad0abc988",
            "_dom_classes": [],
            "description": "Generate report structure: 100%",
            "_model_name": "FloatProgressModel",
            "bar_style": "success",
            "max": 1,
            "_view_module": "@jupyter-widgets/controls",
            "_model_module_version": "1.5.0",
            "value": 1,
            "_view_count": null,
            "_view_module_version": "1.5.0",
            "orientation": "horizontal",
            "min": 0,
            "description_tooltip": null,
            "_model_module": "@jupyter-widgets/controls",
            "layout": "IPY_MODEL_97069ffd18bf469aa546d29b1ab5b689"
          }
        },
        "8191f46abd14451aa0d9ecf48b51bfe9": {
          "model_module": "@jupyter-widgets/controls",
          "model_name": "HTMLModel",
          "state": {
            "_view_name": "HTMLView",
            "style": "IPY_MODEL_7e41a51f69364b1aa10effd189577e0a",
            "_dom_classes": [],
            "description": "",
            "_model_name": "HTMLModel",
            "placeholder": "​",
            "_view_module": "@jupyter-widgets/controls",
            "_model_module_version": "1.5.0",
            "value": " 1/1 [00:04&lt;00:00,  4.72s/it]",
            "_view_count": null,
            "_view_module_version": "1.5.0",
            "description_tooltip": null,
            "_model_module": "@jupyter-widgets/controls",
            "layout": "IPY_MODEL_bfefb84bd8804977af441b349f24eda2"
          }
        },
        "71f91056202b4f3ab621dd0ad0abc988": {
          "model_module": "@jupyter-widgets/controls",
          "model_name": "ProgressStyleModel",
          "state": {
            "_view_name": "StyleView",
            "_model_name": "ProgressStyleModel",
            "description_width": "initial",
            "_view_module": "@jupyter-widgets/base",
            "_model_module_version": "1.5.0",
            "_view_count": null,
            "_view_module_version": "1.2.0",
            "bar_color": null,
            "_model_module": "@jupyter-widgets/controls"
          }
        },
        "97069ffd18bf469aa546d29b1ab5b689": {
          "model_module": "@jupyter-widgets/base",
          "model_name": "LayoutModel",
          "state": {
            "_view_name": "LayoutView",
            "grid_template_rows": null,
            "right": null,
            "justify_content": null,
            "_view_module": "@jupyter-widgets/base",
            "overflow": null,
            "_model_module_version": "1.2.0",
            "_view_count": null,
            "flex_flow": null,
            "width": null,
            "min_width": null,
            "border": null,
            "align_items": null,
            "bottom": null,
            "_model_module": "@jupyter-widgets/base",
            "top": null,
            "grid_column": null,
            "overflow_y": null,
            "overflow_x": null,
            "grid_auto_flow": null,
            "grid_area": null,
            "grid_template_columns": null,
            "flex": null,
            "_model_name": "LayoutModel",
            "justify_items": null,
            "grid_row": null,
            "max_height": null,
            "align_content": null,
            "visibility": null,
            "align_self": null,
            "height": null,
            "min_height": null,
            "padding": null,
            "grid_auto_rows": null,
            "grid_gap": null,
            "max_width": null,
            "order": null,
            "_view_module_version": "1.2.0",
            "grid_template_areas": null,
            "object_position": null,
            "object_fit": null,
            "grid_auto_columns": null,
            "margin": null,
            "display": null,
            "left": null
          }
        },
        "7e41a51f69364b1aa10effd189577e0a": {
          "model_module": "@jupyter-widgets/controls",
          "model_name": "DescriptionStyleModel",
          "state": {
            "_view_name": "StyleView",
            "_model_name": "DescriptionStyleModel",
            "description_width": "",
            "_view_module": "@jupyter-widgets/base",
            "_model_module_version": "1.5.0",
            "_view_count": null,
            "_view_module_version": "1.2.0",
            "_model_module": "@jupyter-widgets/controls"
          }
        },
        "bfefb84bd8804977af441b349f24eda2": {
          "model_module": "@jupyter-widgets/base",
          "model_name": "LayoutModel",
          "state": {
            "_view_name": "LayoutView",
            "grid_template_rows": null,
            "right": null,
            "justify_content": null,
            "_view_module": "@jupyter-widgets/base",
            "overflow": null,
            "_model_module_version": "1.2.0",
            "_view_count": null,
            "flex_flow": null,
            "width": null,
            "min_width": null,
            "border": null,
            "align_items": null,
            "bottom": null,
            "_model_module": "@jupyter-widgets/base",
            "top": null,
            "grid_column": null,
            "overflow_y": null,
            "overflow_x": null,
            "grid_auto_flow": null,
            "grid_area": null,
            "grid_template_columns": null,
            "flex": null,
            "_model_name": "LayoutModel",
            "justify_items": null,
            "grid_row": null,
            "max_height": null,
            "align_content": null,
            "visibility": null,
            "align_self": null,
            "height": null,
            "min_height": null,
            "padding": null,
            "grid_auto_rows": null,
            "grid_gap": null,
            "max_width": null,
            "order": null,
            "_view_module_version": "1.2.0",
            "grid_template_areas": null,
            "object_position": null,
            "object_fit": null,
            "grid_auto_columns": null,
            "margin": null,
            "display": null,
            "left": null
          }
        },
        "4b4d72935d954a79ba17ef0f9ea546cc": {
          "model_module": "@jupyter-widgets/controls",
          "model_name": "HBoxModel",
          "state": {
            "_view_name": "HBoxView",
            "_dom_classes": [],
            "_model_name": "HBoxModel",
            "_view_module": "@jupyter-widgets/controls",
            "_model_module_version": "1.5.0",
            "_view_count": null,
            "_view_module_version": "1.5.0",
            "box_style": "",
            "layout": "IPY_MODEL_274363551331445587378891c833944f",
            "_model_module": "@jupyter-widgets/controls",
            "children": [
              "IPY_MODEL_9cd70d9688814c9e8831b32b6804ad24",
              "IPY_MODEL_ebfa9b1bec1c4df2a28022ef46ce064c"
            ]
          }
        },
        "274363551331445587378891c833944f": {
          "model_module": "@jupyter-widgets/base",
          "model_name": "LayoutModel",
          "state": {
            "_view_name": "LayoutView",
            "grid_template_rows": null,
            "right": null,
            "justify_content": null,
            "_view_module": "@jupyter-widgets/base",
            "overflow": null,
            "_model_module_version": "1.2.0",
            "_view_count": null,
            "flex_flow": null,
            "width": null,
            "min_width": null,
            "border": null,
            "align_items": null,
            "bottom": null,
            "_model_module": "@jupyter-widgets/base",
            "top": null,
            "grid_column": null,
            "overflow_y": null,
            "overflow_x": null,
            "grid_auto_flow": null,
            "grid_area": null,
            "grid_template_columns": null,
            "flex": null,
            "_model_name": "LayoutModel",
            "justify_items": null,
            "grid_row": null,
            "max_height": null,
            "align_content": null,
            "visibility": null,
            "align_self": null,
            "height": null,
            "min_height": null,
            "padding": null,
            "grid_auto_rows": null,
            "grid_gap": null,
            "max_width": null,
            "order": null,
            "_view_module_version": "1.2.0",
            "grid_template_areas": null,
            "object_position": null,
            "object_fit": null,
            "grid_auto_columns": null,
            "margin": null,
            "display": null,
            "left": null
          }
        },
        "9cd70d9688814c9e8831b32b6804ad24": {
          "model_module": "@jupyter-widgets/controls",
          "model_name": "FloatProgressModel",
          "state": {
            "_view_name": "ProgressView",
            "style": "IPY_MODEL_9d8e91e20f404f2bb80e89bfdd2f10e5",
            "_dom_classes": [],
            "description": "Render HTML: 100%",
            "_model_name": "FloatProgressModel",
            "bar_style": "success",
            "max": 1,
            "_view_module": "@jupyter-widgets/controls",
            "_model_module_version": "1.5.0",
            "value": 1,
            "_view_count": null,
            "_view_module_version": "1.5.0",
            "orientation": "horizontal",
            "min": 0,
            "description_tooltip": null,
            "_model_module": "@jupyter-widgets/controls",
            "layout": "IPY_MODEL_bd8471b3db0a402a8a868bf2e40275b2"
          }
        },
        "ebfa9b1bec1c4df2a28022ef46ce064c": {
          "model_module": "@jupyter-widgets/controls",
          "model_name": "HTMLModel",
          "state": {
            "_view_name": "HTMLView",
            "style": "IPY_MODEL_f2aef67160b944d1a3590defc180c865",
            "_dom_classes": [],
            "description": "",
            "_model_name": "HTMLModel",
            "placeholder": "​",
            "_view_module": "@jupyter-widgets/controls",
            "_model_module_version": "1.5.0",
            "value": " 1/1 [00:00&lt;00:00,  1.19it/s]",
            "_view_count": null,
            "_view_module_version": "1.5.0",
            "description_tooltip": null,
            "_model_module": "@jupyter-widgets/controls",
            "layout": "IPY_MODEL_967a9b0191824543b26646addf671db4"
          }
        },
        "9d8e91e20f404f2bb80e89bfdd2f10e5": {
          "model_module": "@jupyter-widgets/controls",
          "model_name": "ProgressStyleModel",
          "state": {
            "_view_name": "StyleView",
            "_model_name": "ProgressStyleModel",
            "description_width": "initial",
            "_view_module": "@jupyter-widgets/base",
            "_model_module_version": "1.5.0",
            "_view_count": null,
            "_view_module_version": "1.2.0",
            "bar_color": null,
            "_model_module": "@jupyter-widgets/controls"
          }
        },
        "bd8471b3db0a402a8a868bf2e40275b2": {
          "model_module": "@jupyter-widgets/base",
          "model_name": "LayoutModel",
          "state": {
            "_view_name": "LayoutView",
            "grid_template_rows": null,
            "right": null,
            "justify_content": null,
            "_view_module": "@jupyter-widgets/base",
            "overflow": null,
            "_model_module_version": "1.2.0",
            "_view_count": null,
            "flex_flow": null,
            "width": null,
            "min_width": null,
            "border": null,
            "align_items": null,
            "bottom": null,
            "_model_module": "@jupyter-widgets/base",
            "top": null,
            "grid_column": null,
            "overflow_y": null,
            "overflow_x": null,
            "grid_auto_flow": null,
            "grid_area": null,
            "grid_template_columns": null,
            "flex": null,
            "_model_name": "LayoutModel",
            "justify_items": null,
            "grid_row": null,
            "max_height": null,
            "align_content": null,
            "visibility": null,
            "align_self": null,
            "height": null,
            "min_height": null,
            "padding": null,
            "grid_auto_rows": null,
            "grid_gap": null,
            "max_width": null,
            "order": null,
            "_view_module_version": "1.2.0",
            "grid_template_areas": null,
            "object_position": null,
            "object_fit": null,
            "grid_auto_columns": null,
            "margin": null,
            "display": null,
            "left": null
          }
        },
        "f2aef67160b944d1a3590defc180c865": {
          "model_module": "@jupyter-widgets/controls",
          "model_name": "DescriptionStyleModel",
          "state": {
            "_view_name": "StyleView",
            "_model_name": "DescriptionStyleModel",
            "description_width": "",
            "_view_module": "@jupyter-widgets/base",
            "_model_module_version": "1.5.0",
            "_view_count": null,
            "_view_module_version": "1.2.0",
            "_model_module": "@jupyter-widgets/controls"
          }
        },
        "967a9b0191824543b26646addf671db4": {
          "model_module": "@jupyter-widgets/base",
          "model_name": "LayoutModel",
          "state": {
            "_view_name": "LayoutView",
            "grid_template_rows": null,
            "right": null,
            "justify_content": null,
            "_view_module": "@jupyter-widgets/base",
            "overflow": null,
            "_model_module_version": "1.2.0",
            "_view_count": null,
            "flex_flow": null,
            "width": null,
            "min_width": null,
            "border": null,
            "align_items": null,
            "bottom": null,
            "_model_module": "@jupyter-widgets/base",
            "top": null,
            "grid_column": null,
            "overflow_y": null,
            "overflow_x": null,
            "grid_auto_flow": null,
            "grid_area": null,
            "grid_template_columns": null,
            "flex": null,
            "_model_name": "LayoutModel",
            "justify_items": null,
            "grid_row": null,
            "max_height": null,
            "align_content": null,
            "visibility": null,
            "align_self": null,
            "height": null,
            "min_height": null,
            "padding": null,
            "grid_auto_rows": null,
            "grid_gap": null,
            "max_width": null,
            "order": null,
            "_view_module_version": "1.2.0",
            "grid_template_areas": null,
            "object_position": null,
            "object_fit": null,
            "grid_auto_columns": null,
            "margin": null,
            "display": null,
            "left": null
          }
        },
        "26d9bf8ece2d4a8ab47daf0ae4aba0ff": {
          "model_module": "@jupyter-widgets/controls",
          "model_name": "HBoxModel",
          "state": {
            "_view_name": "HBoxView",
            "_dom_classes": [],
            "_model_name": "HBoxModel",
            "_view_module": "@jupyter-widgets/controls",
            "_model_module_version": "1.5.0",
            "_view_count": null,
            "_view_module_version": "1.5.0",
            "box_style": "",
            "layout": "IPY_MODEL_4f1b1d088c384965a3382bde28af5270",
            "_model_module": "@jupyter-widgets/controls",
            "children": [
              "IPY_MODEL_6e1293b0b5854554b1c2553fc239d4ed",
              "IPY_MODEL_f029cc17a76b46ae986c4558ee005d7f"
            ]
          }
        },
        "4f1b1d088c384965a3382bde28af5270": {
          "model_module": "@jupyter-widgets/base",
          "model_name": "LayoutModel",
          "state": {
            "_view_name": "LayoutView",
            "grid_template_rows": null,
            "right": null,
            "justify_content": null,
            "_view_module": "@jupyter-widgets/base",
            "overflow": null,
            "_model_module_version": "1.2.0",
            "_view_count": null,
            "flex_flow": null,
            "width": null,
            "min_width": null,
            "border": null,
            "align_items": null,
            "bottom": null,
            "_model_module": "@jupyter-widgets/base",
            "top": null,
            "grid_column": null,
            "overflow_y": null,
            "overflow_x": null,
            "grid_auto_flow": null,
            "grid_area": null,
            "grid_template_columns": null,
            "flex": null,
            "_model_name": "LayoutModel",
            "justify_items": null,
            "grid_row": null,
            "max_height": null,
            "align_content": null,
            "visibility": null,
            "align_self": null,
            "height": null,
            "min_height": null,
            "padding": null,
            "grid_auto_rows": null,
            "grid_gap": null,
            "max_width": null,
            "order": null,
            "_view_module_version": "1.2.0",
            "grid_template_areas": null,
            "object_position": null,
            "object_fit": null,
            "grid_auto_columns": null,
            "margin": null,
            "display": null,
            "left": null
          }
        },
        "6e1293b0b5854554b1c2553fc239d4ed": {
          "model_module": "@jupyter-widgets/controls",
          "model_name": "FloatProgressModel",
          "state": {
            "_view_name": "ProgressView",
            "style": "IPY_MODEL_063f1e3c91a5406da370d093faacf27e",
            "_dom_classes": [],
            "description": "Export report to file: 100%",
            "_model_name": "FloatProgressModel",
            "bar_style": "success",
            "max": 1,
            "_view_module": "@jupyter-widgets/controls",
            "_model_module_version": "1.5.0",
            "value": 1,
            "_view_count": null,
            "_view_module_version": "1.5.0",
            "orientation": "horizontal",
            "min": 0,
            "description_tooltip": null,
            "_model_module": "@jupyter-widgets/controls",
            "layout": "IPY_MODEL_50c96886863b46a296e0543d84a02b00"
          }
        },
        "f029cc17a76b46ae986c4558ee005d7f": {
          "model_module": "@jupyter-widgets/controls",
          "model_name": "HTMLModel",
          "state": {
            "_view_name": "HTMLView",
            "style": "IPY_MODEL_474ca4e767764c588779f6ce4ca27cfd",
            "_dom_classes": [],
            "description": "",
            "_model_name": "HTMLModel",
            "placeholder": "​",
            "_view_module": "@jupyter-widgets/controls",
            "_model_module_version": "1.5.0",
            "value": " 1/1 [00:00&lt;00:00, 18.14it/s]",
            "_view_count": null,
            "_view_module_version": "1.5.0",
            "description_tooltip": null,
            "_model_module": "@jupyter-widgets/controls",
            "layout": "IPY_MODEL_19bf655a3d604baf83c33d6f7f28ea23"
          }
        },
        "063f1e3c91a5406da370d093faacf27e": {
          "model_module": "@jupyter-widgets/controls",
          "model_name": "ProgressStyleModel",
          "state": {
            "_view_name": "StyleView",
            "_model_name": "ProgressStyleModel",
            "description_width": "initial",
            "_view_module": "@jupyter-widgets/base",
            "_model_module_version": "1.5.0",
            "_view_count": null,
            "_view_module_version": "1.2.0",
            "bar_color": null,
            "_model_module": "@jupyter-widgets/controls"
          }
        },
        "50c96886863b46a296e0543d84a02b00": {
          "model_module": "@jupyter-widgets/base",
          "model_name": "LayoutModel",
          "state": {
            "_view_name": "LayoutView",
            "grid_template_rows": null,
            "right": null,
            "justify_content": null,
            "_view_module": "@jupyter-widgets/base",
            "overflow": null,
            "_model_module_version": "1.2.0",
            "_view_count": null,
            "flex_flow": null,
            "width": null,
            "min_width": null,
            "border": null,
            "align_items": null,
            "bottom": null,
            "_model_module": "@jupyter-widgets/base",
            "top": null,
            "grid_column": null,
            "overflow_y": null,
            "overflow_x": null,
            "grid_auto_flow": null,
            "grid_area": null,
            "grid_template_columns": null,
            "flex": null,
            "_model_name": "LayoutModel",
            "justify_items": null,
            "grid_row": null,
            "max_height": null,
            "align_content": null,
            "visibility": null,
            "align_self": null,
            "height": null,
            "min_height": null,
            "padding": null,
            "grid_auto_rows": null,
            "grid_gap": null,
            "max_width": null,
            "order": null,
            "_view_module_version": "1.2.0",
            "grid_template_areas": null,
            "object_position": null,
            "object_fit": null,
            "grid_auto_columns": null,
            "margin": null,
            "display": null,
            "left": null
          }
        },
        "474ca4e767764c588779f6ce4ca27cfd": {
          "model_module": "@jupyter-widgets/controls",
          "model_name": "DescriptionStyleModel",
          "state": {
            "_view_name": "StyleView",
            "_model_name": "DescriptionStyleModel",
            "description_width": "",
            "_view_module": "@jupyter-widgets/base",
            "_model_module_version": "1.5.0",
            "_view_count": null,
            "_view_module_version": "1.2.0",
            "_model_module": "@jupyter-widgets/controls"
          }
        },
        "19bf655a3d604baf83c33d6f7f28ea23": {
          "model_module": "@jupyter-widgets/base",
          "model_name": "LayoutModel",
          "state": {
            "_view_name": "LayoutView",
            "grid_template_rows": null,
            "right": null,
            "justify_content": null,
            "_view_module": "@jupyter-widgets/base",
            "overflow": null,
            "_model_module_version": "1.2.0",
            "_view_count": null,
            "flex_flow": null,
            "width": null,
            "min_width": null,
            "border": null,
            "align_items": null,
            "bottom": null,
            "_model_module": "@jupyter-widgets/base",
            "top": null,
            "grid_column": null,
            "overflow_y": null,
            "overflow_x": null,
            "grid_auto_flow": null,
            "grid_area": null,
            "grid_template_columns": null,
            "flex": null,
            "_model_name": "LayoutModel",
            "justify_items": null,
            "grid_row": null,
            "max_height": null,
            "align_content": null,
            "visibility": null,
            "align_self": null,
            "height": null,
            "min_height": null,
            "padding": null,
            "grid_auto_rows": null,
            "grid_gap": null,
            "max_width": null,
            "order": null,
            "_view_module_version": "1.2.0",
            "grid_template_areas": null,
            "object_position": null,
            "object_fit": null,
            "grid_auto_columns": null,
            "margin": null,
            "display": null,
            "left": null
          }
        }
      }
    }
  },
  "cells": [
    {
      "cell_type": "markdown",
      "metadata": {
        "id": "view-in-github",
        "colab_type": "text"
      },
      "source": [
        "<a href=\"https://colab.research.google.com/github/dineshjagai/internships-2020-summer/blob/master/Analysis_of_the_QuickSilver_Performance.ipynb\" target=\"_parent\"><img src=\"https://colab.research.google.com/assets/colab-badge.svg\" alt=\"Open In Colab\"/></a>"
      ]
    },
    {
      "cell_type": "markdown",
      "metadata": {
        "id": "FziX-8POntjt",
        "colab_type": "text"
      },
      "source": [
        "*Data* Analysis between final merged team and Phillip model's prediction (06.26.2020)"
      ]
    },
    {
      "cell_type": "markdown",
      "metadata": {
        "id": "j-IpuADSalL3",
        "colab_type": "text"
      },
      "source": [
        "**Libraries**"
      ]
    },
    {
      "cell_type": "code",
      "metadata": {
        "id": "-EEsaze1akX6",
        "colab_type": "code",
        "colab": {}
      },
      "source": [
        "# Relevant Standard Processing Libraries\n",
        "import math\n",
        "import re\n",
        "import numpy as np \n",
        "import pandas as pd \n",
        "import json\n",
        "import matplotlib\n",
        "import matplotlib.pyplot as plt\n",
        "from matplotlib import cm\n",
        "from datetime import datetime\n",
        "from IPython.display import Image\n",
        "import glob\n",
        "import seaborn as sns\n",
        "import re\n",
        "import os"
      ],
      "execution_count": 4,
      "outputs": []
    },
    {
      "cell_type": "code",
      "metadata": {
        "id": "dn_FVrnNEGQu",
        "colab_type": "code",
        "colab": {}
      },
      "source": [
        "# Load any important libraries\n",
        "!pip install https://github.com/pandas-profiling/pandas-profiling/archive/master.zip"
      ],
      "execution_count": null,
      "outputs": []
    },
    {
      "cell_type": "markdown",
      "metadata": {
        "id": "OVPu2zoZMYjJ",
        "colab_type": "text"
      },
      "source": [
        "# 0) Load the Data\n",
        "- Insert the .csv files for the master file\n",
        "- These files can cleaned or not clean"
      ]
    },
    {
      "cell_type": "code",
      "metadata": {
        "id": "H9e6eI-yMGvv",
        "colab_type": "code",
        "colab": {
          "resources": {
            "http://localhost:8080/nbextensions/google.colab/files.js": {
              "data": "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",
              "ok": true,
              "headers": [
                [
                  "content-type",
                  "application/javascript"
                ]
              ],
              "status": 200,
              "status_text": ""
            }
          },
          "base_uri": "https://localhost:8080/",
          "height": 106
        },
        "outputId": "5badbb57-e8af-41ad-a679-b09624d7ff07"
      },
      "source": [
        "# Load the Relevant Files for the master team and Phillip's model\n",
        "# File 1 - Consolidated Master File,\n",
        "# File 2 - Phillip's model output on the test set \n",
        "from google.colab import files\n",
        "uploaded = files.upload()"
      ],
      "execution_count": 6,
      "outputs": [
        {
          "output_type": "display_data",
          "data": {
            "text/html": [
              "\n",
              "     <input type=\"file\" id=\"files-dcd68f00-34de-4fe4-9368-28ec69b92799\" name=\"files[]\" multiple disabled\n",
              "        style=\"border:none\" />\n",
              "     <output id=\"result-dcd68f00-34de-4fe4-9368-28ec69b92799\">\n",
              "      Upload widget is only available when the cell has been executed in the\n",
              "      current browser session. Please rerun this cell to enable.\n",
              "      </output>\n",
              "      <script src=\"/nbextensions/google.colab/files.js\"></script> "
            ],
            "text/plain": [
              "<IPython.core.display.HTML object>"
            ]
          },
          "metadata": {
            "tags": []
          }
        },
        {
          "output_type": "stream",
          "text": [
            "Saving data_check_dj.csv to data_check_dj.csv\n",
            "Saving MergedMasterFINAL_616_VINEET + CHIRAG.xlsx to MergedMasterFINAL_616_VINEET + CHIRAG.xlsx\n"
          ],
          "name": "stdout"
        }
      ]
    },
    {
      "cell_type": "code",
      "metadata": {
        "id": "v240mEbHyGSa",
        "colab_type": "code",
        "colab": {}
      },
      "source": [
        "test_set_ratio = 0.30;  # Update this based on the test set size\n",
        "MAX_ENTRIES_CURRENT = np.round(test_set_ratio * 25617); # Update this based on the amount of entries generated "
      ],
      "execution_count": null,
      "outputs": []
    },
    {
      "cell_type": "code",
      "metadata": {
        "id": "ooChZ032IYce",
        "colab_type": "code",
        "colab": {
          "base_uri": "https://localhost:8080/",
          "height": 51
        },
        "outputId": "536ea171-c0f8-4d77-dda1-1965e8fa1450"
      },
      "source": [
        "master_file = pd.read_excel(\"/content/MergedMasterFINAL_616_VINEET + CHIRAG.xlsx\", header=0);\n",
        "phillip_model_output = pd.read_csv(\"/content/data_check_dj.csv\", header=0);\n",
        "# Shape of the dataframes\n",
        "print(master_file.shape)\n",
        "print(phillip_model_output.shape)"
      ],
      "execution_count": 8,
      "outputs": [
        {
          "output_type": "stream",
          "text": [
            "(25019, 29)\n",
            "(7505, 7)\n"
          ],
          "name": "stdout"
        }
      ]
    },
    {
      "cell_type": "code",
      "metadata": {
        "id": "moQYmmaTTt5Q",
        "colab_type": "code",
        "colab": {
          "base_uri": "https://localhost:8080/",
          "height": 51
        },
        "outputId": "22a216f1-a613-480a-9ece-09f4ae0fc046"
      },
      "source": [
        "# Number of repeated ID's in the master file \n",
        "# TODO - talk to Phillip about this\n",
        "print('Number of repeated IDs in the master file = %s' %  (master_file.shape[0] - len(master_file.pivot_table(index=['unique_id'], aggfunc='size'))))\n",
        "print('Number of repeated IDs in the Phillips model  = %s' %  (phillip_model_output.shape[0] - len(phillip_model_output.pivot_table(index=['UID'], aggfunc='size'))))"
      ],
      "execution_count": 9,
      "outputs": [
        {
          "output_type": "stream",
          "text": [
            "Number of repeated IDs in the master file = 7\n",
            "Number of repeated IDs in the Phillips model  = 1\n"
          ],
          "name": "stdout"
        }
      ]
    },
    {
      "cell_type": "markdown",
      "metadata": {
        "id": "eSOggh7nJzfU",
        "colab_type": "text"
      },
      "source": [
        "# 1) Merge the Files \n",
        "- Inner join on Unique Id\n"
      ]
    },
    {
      "cell_type": "code",
      "metadata": {
        "id": "Obft5ebDiGNh",
        "colab_type": "code",
        "colab": {
          "base_uri": "https://localhost:8080/",
          "height": 34
        },
        "outputId": "c3d8aa60-7d7d-4a34-c768-5015d5c562d6"
      },
      "source": [
        "final_uncleaned = pd.merge(left=master_file, right=phillip_model_output, left_on='unique_id', right_on='UID', how='inner');\n",
        "\n",
        "print(final_uncleaned.shape)\n",
        "# assert(final_uncleaned.shape[0] == phillip_model_output.shape[0])\n"
      ],
      "execution_count": 10,
      "outputs": [
        {
          "output_type": "stream",
          "text": [
            "(7512, 36)\n"
          ],
          "name": "stdout"
        }
      ]
    },
    {
      "cell_type": "code",
      "metadata": {
        "id": "tsdQqbiRi-Ta",
        "colab_type": "code",
        "colab": {
          "base_uri": "https://localhost:8080/",
          "height": 646
        },
        "outputId": "7fdc8849-9afc-4aff-f270-48a3283968d7"
      },
      "source": [
        "final_uncleaned.dtypes"
      ],
      "execution_count": 11,
      "outputs": [
        {
          "output_type": "execute_result",
          "data": {
            "text/plain": [
              "unique_id                            object\n",
              "ID                                   object\n",
              "Date Sent                            object\n",
              "Subject                              object\n",
              "MLS#_x                               object\n",
              "From                                 object\n",
              "To                                   object\n",
              "Offerer Checker From_team_1          object\n",
              "Offerer Checker To_team_1            object\n",
              "Offerer Checker From_team_2          object\n",
              "Offerer Checker To_team_2            object\n",
              "Buyer Offer                           int64\n",
              "Counter_team_1                        int64\n",
              "Counter_team_2                        int64\n",
              "Human Counter_Team_1                  int64\n",
              "Human Counter_Team_2                 object\n",
              "Master Counter                        int64\n",
              "Message Number                        int64\n",
              "Scenario                             object\n",
              "Human Scenario_team_1                object\n",
              "Human Scenario_team_2                object\n",
              "Human Keyword Trigger(s)_team_1      object\n",
              "Human Keyword Trigger(s)_team_2      object\n",
              "Master Scenario                      object\n",
              "Message_x                            object\n",
              "Keywords                             object\n",
              "Keyword Template                     object\n",
              "Keyword Matching Rate               float64\n",
              "classification_phillips_vs_teams     object\n",
              "Row_number                            int64\n",
              "UID                                  object\n",
              "MLS#_y                               object\n",
              "Prediction                           object\n",
              "Correction                           object\n",
              "Actual                               object\n",
              "Message_y                            object\n",
              "dtype: object"
            ]
          },
          "metadata": {
            "tags": []
          },
          "execution_count": 11
        }
      ]
    },
    {
      "cell_type": "markdown",
      "metadata": {
        "id": "lPeOnu8uyFQc",
        "colab_type": "text"
      },
      "source": [
        "# 2) Visualize the Data "
      ]
    },
    {
      "cell_type": "code",
      "metadata": {
        "id": "rmZMvhxWk-jO",
        "colab_type": "code",
        "colab": {
          "base_uri": "https://localhost:8080/",
          "height": 734
        },
        "outputId": "71df866d-8349-46d2-bb5c-0e7ce680a518"
      },
      "source": [
        "final_uncleaned.head(5)"
      ],
      "execution_count": 12,
      "outputs": [
        {
          "output_type": "execute_result",
          "data": {
            "text/html": [
              "<div>\n",
              "<style scoped>\n",
              "    .dataframe tbody tr th:only-of-type {\n",
              "        vertical-align: middle;\n",
              "    }\n",
              "\n",
              "    .dataframe tbody tr th {\n",
              "        vertical-align: top;\n",
              "    }\n",
              "\n",
              "    .dataframe thead th {\n",
              "        text-align: right;\n",
              "    }\n",
              "</style>\n",
              "<table border=\"1\" class=\"dataframe\">\n",
              "  <thead>\n",
              "    <tr style=\"text-align: right;\">\n",
              "      <th></th>\n",
              "      <th>unique_id</th>\n",
              "      <th>ID</th>\n",
              "      <th>Date Sent</th>\n",
              "      <th>Subject</th>\n",
              "      <th>MLS#_x</th>\n",
              "      <th>From</th>\n",
              "      <th>To</th>\n",
              "      <th>Offerer Checker From_team_1</th>\n",
              "      <th>Offerer Checker To_team_1</th>\n",
              "      <th>Offerer Checker From_team_2</th>\n",
              "      <th>Offerer Checker To_team_2</th>\n",
              "      <th>Buyer Offer</th>\n",
              "      <th>Counter_team_1</th>\n",
              "      <th>Counter_team_2</th>\n",
              "      <th>Human Counter_Team_1</th>\n",
              "      <th>Human Counter_Team_2</th>\n",
              "      <th>Master Counter</th>\n",
              "      <th>Message Number</th>\n",
              "      <th>Scenario</th>\n",
              "      <th>Human Scenario_team_1</th>\n",
              "      <th>Human Scenario_team_2</th>\n",
              "      <th>Human Keyword Trigger(s)_team_1</th>\n",
              "      <th>Human Keyword Trigger(s)_team_2</th>\n",
              "      <th>Master Scenario</th>\n",
              "      <th>Message_x</th>\n",
              "      <th>Keywords</th>\n",
              "      <th>Keyword Template</th>\n",
              "      <th>Keyword Matching Rate</th>\n",
              "      <th>classification_phillips_vs_teams</th>\n",
              "      <th>Row_number</th>\n",
              "      <th>UID</th>\n",
              "      <th>MLS#_y</th>\n",
              "      <th>Prediction</th>\n",
              "      <th>Correction</th>\n",
              "      <th>Actual</th>\n",
              "      <th>Message_y</th>\n",
              "    </tr>\n",
              "  </thead>\n",
              "  <tbody>\n",
              "    <tr>\n",
              "      <th>0</th>\n",
              "      <td>josh_431</td>\n",
              "      <td>josh_43</td>\n",
              "      <td>11/19/2019 : 21</td>\n",
              "      <td>OFFER FOR 4015 CASTILE SQUARE, AUSTELL, GA 301...</td>\n",
              "      <td>6635595</td>\n",
              "      <td>B</td>\n",
              "      <td>S</td>\n",
              "      <td>B</td>\n",
              "      <td>S</td>\n",
              "      <td>B</td>\n",
              "      <td>S</td>\n",
              "      <td>196500</td>\n",
              "      <td>0</td>\n",
              "      <td>0</td>\n",
              "      <td>0</td>\n",
              "      <td>0</td>\n",
              "      <td>0</td>\n",
              "      <td>1</td>\n",
              "      <td>Buyer Offer Made</td>\n",
              "      <td>Buyer Offer Made</td>\n",
              "      <td>Buyer Offer Made</td>\n",
              "      <td>I am a sales associate</td>\n",
              "      <td>I am a sales associate</td>\n",
              "      <td>Buyer Offer Made</td>\n",
              "      <td>tycom   wrote \\ufeff dear leon i am a sales as...</td>\n",
              "      <td>['closing', ' offer', ' cash', ' costs', ' mls...</td>\n",
              "      <td>['closing', ' offer', ' cash', ' costs', ' mls...</td>\n",
              "      <td>1.0</td>\n",
              "      <td>y</td>\n",
              "      <td>5</td>\n",
              "      <td>josh_431</td>\n",
              "      <td>6635595</td>\n",
              "      <td>Buyer Offer Made</td>\n",
              "      <td>Buyer Offer Made</td>\n",
              "      <td>Buyer Offer Made</td>\n",
              "      <td>tycom   wrote \\ufeff dear leon i am a sales as...</td>\n",
              "    </tr>\n",
              "    <tr>\n",
              "      <th>1</th>\n",
              "      <td>josh_482</td>\n",
              "      <td>josh_48</td>\n",
              "      <td>11/19/2019 : 21</td>\n",
              "      <td>OFFER FOR 2589 SLOAN STREET, AUSTELL, GA 30106...</td>\n",
              "      <td>6626426</td>\n",
              "      <td>S</td>\n",
              "      <td>B</td>\n",
              "      <td>S</td>\n",
              "      <td>B</td>\n",
              "      <td>S</td>\n",
              "      <td>B</td>\n",
              "      <td>130000</td>\n",
              "      <td>0</td>\n",
              "      <td>0</td>\n",
              "      <td>0</td>\n",
              "      <td>0</td>\n",
              "      <td>0</td>\n",
              "      <td>2</td>\n",
              "      <td>Additional Info</td>\n",
              "      <td>Additional Info</td>\n",
              "      <td>Additional Info</td>\n",
              "      <td>['']</td>\n",
              "      <td>['']</td>\n",
              "      <td>Additional Info</td>\n",
              "      <td>thank you but that property had multiple offer...</td>\n",
              "      <td>['', ' please', '', '', '', '', '', '', '', '']</td>\n",
              "      <td>['mar', ' please', ' thank', ' know', ' ga', '...</td>\n",
              "      <td>0.1</td>\n",
              "      <td>y</td>\n",
              "      <td>6</td>\n",
              "      <td>josh_482</td>\n",
              "      <td>6626426</td>\n",
              "      <td>Received / Waiting on Client</td>\n",
              "      <td>Received / Waiting on Client</td>\n",
              "      <td>Additional Info</td>\n",
              "      <td>thank you but that property had multiple offer...</td>\n",
              "    </tr>\n",
              "    <tr>\n",
              "      <th>2</th>\n",
              "      <td>josh_481</td>\n",
              "      <td>josh_48</td>\n",
              "      <td>11/19/2019 : 21</td>\n",
              "      <td>OFFER FOR 2589 SLOAN STREET, AUSTELL, GA 30106...</td>\n",
              "      <td>6626426</td>\n",
              "      <td>B</td>\n",
              "      <td>S</td>\n",
              "      <td>B</td>\n",
              "      <td>S</td>\n",
              "      <td>B</td>\n",
              "      <td>S</td>\n",
              "      <td>130000</td>\n",
              "      <td>0</td>\n",
              "      <td>0</td>\n",
              "      <td>0</td>\n",
              "      <td>0</td>\n",
              "      <td>0</td>\n",
              "      <td>1</td>\n",
              "      <td>Buyer Offer Made</td>\n",
              "      <td>Buyer Offer Made</td>\n",
              "      <td>Buyer Offer Made</td>\n",
              "      <td>I am a sales associate</td>\n",
              "      <td>I am a sales associate</td>\n",
              "      <td>Buyer Offer Made</td>\n",
              "      <td>915 pm  wrote  \\ufeff dear shane  i am a sales...</td>\n",
              "      <td>['closing', ' offer', ' cash', ' costs', ' mls...</td>\n",
              "      <td>['closing', ' offer', ' cash', ' costs', ' mls...</td>\n",
              "      <td>1.0</td>\n",
              "      <td>y</td>\n",
              "      <td>7</td>\n",
              "      <td>josh_481</td>\n",
              "      <td>6626426</td>\n",
              "      <td>Buyer Offer Made</td>\n",
              "      <td>Buyer Offer Made</td>\n",
              "      <td>Buyer Offer Made</td>\n",
              "      <td>915 pm  wrote  \\ufeff dear shane  i am a sales...</td>\n",
              "    </tr>\n",
              "    <tr>\n",
              "      <th>3</th>\n",
              "      <td>josh_522</td>\n",
              "      <td>josh_52</td>\n",
              "      <td>11/19/2019 : 22</td>\n",
              "      <td>OFFER FOR 933 PINE OAK TRAIL, AUSTELL, GA 3016...</td>\n",
              "      <td>6618131</td>\n",
              "      <td>S</td>\n",
              "      <td>B</td>\n",
              "      <td>S</td>\n",
              "      <td>B</td>\n",
              "      <td>S</td>\n",
              "      <td>B</td>\n",
              "      <td>50500</td>\n",
              "      <td>0</td>\n",
              "      <td>0</td>\n",
              "      <td>55000</td>\n",
              "      <td>55000</td>\n",
              "      <td>55000</td>\n",
              "      <td>2</td>\n",
              "      <td>Received / Waiting on Client</td>\n",
              "      <td>Accept</td>\n",
              "      <td>Counter</td>\n",
              "      <td>client will accept</td>\n",
              "      <td>client will accept</td>\n",
              "      <td>Counter</td>\n",
              "      <td>hello joshuamy client will accept 55k with all...</td>\n",
              "      <td>['', ' thank', '', '', '', '', ' client', '', ...</td>\n",
              "      <td>['seller', ' thank', ' offer', ' us', ' not', ...</td>\n",
              "      <td>0.2</td>\n",
              "      <td>n</td>\n",
              "      <td>12</td>\n",
              "      <td>josh_522</td>\n",
              "      <td>6618131</td>\n",
              "      <td>Counter</td>\n",
              "      <td>Counter</td>\n",
              "      <td>Counter</td>\n",
              "      <td>hello joshuamy client will accept 55k with all...</td>\n",
              "    </tr>\n",
              "    <tr>\n",
              "      <th>4</th>\n",
              "      <td>josh_532</td>\n",
              "      <td>josh_53</td>\n",
              "      <td>11/19/2019 : 23</td>\n",
              "      <td>OFFER FOR 7110 SILVER MINE CROSSING, AUSTELL, ...</td>\n",
              "      <td>6625152</td>\n",
              "      <td>S</td>\n",
              "      <td>B</td>\n",
              "      <td>S</td>\n",
              "      <td>B</td>\n",
              "      <td>S</td>\n",
              "      <td>B</td>\n",
              "      <td>144000</td>\n",
              "      <td>0</td>\n",
              "      <td>0</td>\n",
              "      <td>0</td>\n",
              "      <td>0</td>\n",
              "      <td>0</td>\n",
              "      <td>2</td>\n",
              "      <td>Reject</td>\n",
              "      <td>Reject</td>\n",
              "      <td>Reject</td>\n",
              "      <td>not be countering, too far apart</td>\n",
              "      <td>will not be countering</td>\n",
              "      <td>Reject</td>\n",
              "      <td>thank you for your offer joshua  however at th...</td>\n",
              "      <td>['offer', ' not', '', '', ' client', ' time', ...</td>\n",
              "      <td>['offer', ' not', ' seller', ' price', ' clien...</td>\n",
              "      <td>0.4</td>\n",
              "      <td>y</td>\n",
              "      <td>14</td>\n",
              "      <td>josh_532</td>\n",
              "      <td>6625152</td>\n",
              "      <td>Reject</td>\n",
              "      <td>Counter</td>\n",
              "      <td>Reject</td>\n",
              "      <td>thank you for your offer joshua  however at th...</td>\n",
              "    </tr>\n",
              "  </tbody>\n",
              "</table>\n",
              "</div>"
            ],
            "text/plain": [
              "  unique_id  ...                                          Message_y\n",
              "0  josh_431  ...  tycom   wrote \\ufeff dear leon i am a sales as...\n",
              "1  josh_482  ...  thank you but that property had multiple offer...\n",
              "2  josh_481  ...  915 pm  wrote  \\ufeff dear shane  i am a sales...\n",
              "3  josh_522  ...  hello joshuamy client will accept 55k with all...\n",
              "4  josh_532  ...  thank you for your offer joshua  however at th...\n",
              "\n",
              "[5 rows x 36 columns]"
            ]
          },
          "metadata": {
            "tags": []
          },
          "execution_count": 12
        }
      ]
    },
    {
      "cell_type": "code",
      "metadata": {
        "id": "uLmpOWbpCWbK",
        "colab_type": "code",
        "colab": {
          "base_uri": "https://localhost:8080/",
          "height": 213,
          "referenced_widgets": [
            "5a50332b152f48fba8f8323884cc421c",
            "e945cb7be762482983259662a22dd8ae",
            "deb6b126582845bcb7ff10f1cebec7b1",
            "5bc01c4ab3b04aea86f4321812f93eed",
            "e0391c1d72a14486898e23fbe92cfb73",
            "94c19a533c0b4190aa6d512f9f554b49",
            "388442ee2da0444692b9f3cd345e9c74",
            "612a13b4c585427b89c304ae67ff09bf",
            "a6849b1c6943470b88ef8d43ba4aea28",
            "fc1dee68ee4542b682a4fdc4fca171d6",
            "e7945484268146a281ed0bc11938bb17",
            "355b84e671f547a5a295ada7fe30cb84",
            "d2fa7fd42f0c4a779eef3af0acf02cbb",
            "5a5b191fc8c948ea8a49da82e62159ed",
            "1a5497bb18b54724b7fc3b0622d790d7",
            "5add664a085d4d3abf04f3cb75df11ba",
            "7b819c6bf3ea4774a6c3d44eb51a124b",
            "4b16f4371b8f4d61b5a4ca15a77bd147",
            "9d24fe1c3ac544a598ab3a958eb3f69b",
            "5eee652048754d7d894b2d5c73dfed10",
            "434730b01e264846abd3e1b6a9f4c97b",
            "cc9e0e180c4241b8a52f47cca7acc0e7",
            "73df04b2432a4c7b89db040bdea38e32",
            "71059d1a08d8464c883b4ce0031964a6",
            "ecf3be2791e84388b8ab680de981e9dd",
            "6927d3501904404faaff6426cf5db232",
            "956b3806b0f345a4b0f2307deac9d3ab",
            "f733d6ef11d644d29aec191f821e4994",
            "ba281701beda402590f63a1197fa1ade",
            "4c8314c971444bd1858570f16ad37b65",
            "42dc4bc464a841cc8e65d5495ce61c81",
            "d3e3b8c91c734d93a62ee1de634956e0"
          ]
        },
        "outputId": "de19d755-38cb-45e9-bc91-9b0408385a4c"
      },
      "source": [
        "# Visualize the uncleaned data \n",
        "from pandas_profiling import ProfileReport\n",
        "report = ProfileReport(final_uncleaned)\n",
        "report.to_file(output_file='final_uncleaned_file.html')"
      ],
      "execution_count": 13,
      "outputs": [
        {
          "output_type": "display_data",
          "data": {
            "application/vnd.jupyter.widget-view+json": {
              "model_id": "5a50332b152f48fba8f8323884cc421c",
              "version_minor": 0,
              "version_major": 2
            },
            "text/plain": [
              "HBox(children=(FloatProgress(value=0.0, description='Summarize dataset', max=50.0, style=ProgressStyle(descrip…"
            ]
          },
          "metadata": {
            "tags": []
          }
        },
        {
          "output_type": "stream",
          "text": [
            "\n"
          ],
          "name": "stdout"
        },
        {
          "output_type": "display_data",
          "data": {
            "application/vnd.jupyter.widget-view+json": {
              "model_id": "a6849b1c6943470b88ef8d43ba4aea28",
              "version_minor": 0,
              "version_major": 2
            },
            "text/plain": [
              "HBox(children=(FloatProgress(value=0.0, description='Generate report structure', max=1.0, style=ProgressStyle(…"
            ]
          },
          "metadata": {
            "tags": []
          }
        },
        {
          "output_type": "stream",
          "text": [
            "\n"
          ],
          "name": "stdout"
        },
        {
          "output_type": "display_data",
          "data": {
            "application/vnd.jupyter.widget-view+json": {
              "model_id": "7b819c6bf3ea4774a6c3d44eb51a124b",
              "version_minor": 0,
              "version_major": 2
            },
            "text/plain": [
              "HBox(children=(FloatProgress(value=0.0, description='Render HTML', max=1.0, style=ProgressStyle(description_wi…"
            ]
          },
          "metadata": {
            "tags": []
          }
        },
        {
          "output_type": "stream",
          "text": [
            "\n"
          ],
          "name": "stdout"
        },
        {
          "output_type": "display_data",
          "data": {
            "application/vnd.jupyter.widget-view+json": {
              "model_id": "ecf3be2791e84388b8ab680de981e9dd",
              "version_minor": 0,
              "version_major": 2
            },
            "text/plain": [
              "HBox(children=(FloatProgress(value=0.0, description='Export report to file', max=1.0, style=ProgressStyle(desc…"
            ]
          },
          "metadata": {
            "tags": []
          }
        },
        {
          "output_type": "stream",
          "text": [
            "\n"
          ],
          "name": "stdout"
        }
      ]
    },
    {
      "cell_type": "code",
      "metadata": {
        "id": "UcyqAlxM7nvH",
        "colab_type": "code",
        "colab": {
          "base_uri": "https://localhost:8080/",
          "height": 442
        },
        "outputId": "0888b162-dfba-4633-f612-4d14bd1815c7"
      },
      "source": [
        "# Master Team\n",
        "total = final_uncleaned.shape[0]\n",
        "print('total = %s' % (total))\n",
        "print('--------------------------------------------------------')\n",
        "print(final_uncleaned['Actual'].value_counts())\n",
        "print('--------------------------------------------------------')\n",
        "print(final_uncleaned['Actual'].value_counts(normalize=True))"
      ],
      "execution_count": 14,
      "outputs": [
        {
          "output_type": "stream",
          "text": [
            "total = 7512\n",
            "--------------------------------------------------------\n",
            "Additional Info                 2848\n",
            "Buyer Offer Made                2030\n",
            "Counter                          672\n",
            "Reject                           530\n",
            "Received / Waiting on Client     487\n",
            "Under Contract / Pending         460\n",
            "Sold / Withdrawn                 326\n",
            "Need PSA                          91\n",
            "Accept                            37\n",
            "Wrong Agent                       31\n",
            "Name: Actual, dtype: int64\n",
            "--------------------------------------------------------\n",
            "Additional Info                 0.379127\n",
            "Buyer Offer Made                0.270234\n",
            "Counter                         0.089457\n",
            "Reject                          0.070554\n",
            "Received / Waiting on Client    0.064830\n",
            "Under Contract / Pending        0.061235\n",
            "Sold / Withdrawn                0.043397\n",
            "Need PSA                        0.012114\n",
            "Accept                          0.004925\n",
            "Wrong Agent                     0.004127\n",
            "Name: Actual, dtype: float64\n"
          ],
          "name": "stdout"
        }
      ]
    },
    {
      "cell_type": "code",
      "metadata": {
        "id": "SX1LFjOd5_Sg",
        "colab_type": "code",
        "colab": {
          "base_uri": "https://localhost:8080/",
          "height": 862
        },
        "outputId": "444d38a7-4436-4a04-b145-b3b978894709"
      },
      "source": [
        "# Scenarios for Master Team \n",
        "final_uncleaned['Actual'].value_counts(normalize=True).sort_values().plot(kind = 'pie', figsize=(15,15), fontsize = '10', autopct='%.2f%%', title = 'Pie Chart Showing The Classfications from the Master Team on Phillips Test set');"
      ],
      "execution_count": 15,
      "outputs": [
        {
          "output_type": "display_data",
          "data": {
            "image/png": "[encoded data removed]",
            "text/plain": [
              "<Figure size 1080x1080 with 1 Axes>"
            ]
          },
          "metadata": {
            "tags": []
          }
        }
      ]
    },
    {
      "cell_type": "code",
      "metadata": {
        "id": "oC8ws9zA7Vz1",
        "colab_type": "code",
        "colab": {
          "base_uri": "https://localhost:8080/",
          "height": 459
        },
        "outputId": "4c2e8037-1b8c-4f35-c677-d8278c6a00ab"
      },
      "source": [
        "# Phillip's Model\n",
        "total = final_uncleaned.shape[0]\n",
        "print('total = %s' % (total))\n",
        "print('Classifications for Phillips Model')\n",
        "print('--------------------------------------------------------')\n",
        "print(final_uncleaned['Prediction'].value_counts())\n",
        "print('--------------------------------------------------------')\n",
        "print(final_uncleaned['Prediction'].value_counts(normalize=True))"
      ],
      "execution_count": 16,
      "outputs": [
        {
          "output_type": "stream",
          "text": [
            "total = 7512\n",
            "Classifications for Phillips Model\n",
            "--------------------------------------------------------\n",
            "Additional Info                 3162\n",
            "Buyer Offer Made                2022\n",
            "Counter                          577\n",
            "Reject                           472\n",
            "Under Contract / Pending         440\n",
            "Received / Waiting on Client     431\n",
            "Sold / Withdrawn                 298\n",
            "Need PSA                          61\n",
            "Wrong Agent                       30\n",
            "Accept                            19\n",
            "Name: Prediction, dtype: int64\n",
            "--------------------------------------------------------\n",
            "Additional Info                 0.420927\n",
            "Buyer Offer Made                0.269169\n",
            "Counter                         0.076810\n",
            "Reject                          0.062833\n",
            "Under Contract / Pending        0.058573\n",
            "Received / Waiting on Client    0.057375\n",
            "Sold / Withdrawn                0.039670\n",
            "Need PSA                        0.008120\n",
            "Wrong Agent                     0.003994\n",
            "Accept                          0.002529\n",
            "Name: Prediction, dtype: float64\n"
          ],
          "name": "stdout"
        }
      ]
    },
    {
      "cell_type": "code",
      "metadata": {
        "id": "99kjB9Sf8AON",
        "colab_type": "code",
        "colab": {
          "base_uri": "https://localhost:8080/",
          "height": 862
        },
        "outputId": "e536558f-6e17-4ddf-8fc5-333ff44454ed"
      },
      "source": [
        "# Scenarios for Philip Team \n",
        "final_uncleaned['Prediction'].value_counts(normalize=True).sort_values().plot(kind = 'pie', figsize=(15,15), fontsize = '10', autopct='%.2f%%', title = 'Pie Chart Showing The Classfications from Phillip\"S  Model team on the test set');"
      ],
      "execution_count": 17,
      "outputs": [
        {
          "output_type": "display_data",
          "data": {
            "image/png": "[encoded data removed]",
            "text/plain": [
              "<Figure size 1080x1080 with 1 Axes>"
            ]
          },
          "metadata": {
            "tags": []
          }
        }
      ]
    },
    {
      "cell_type": "code",
      "metadata": {
        "id": "9m-5QAt-Zw-l",
        "colab_type": "code",
        "colab": {
          "base_uri": "https://localhost:8080/",
          "height": 646
        },
        "outputId": "72d80aca-aa70-4c5c-ebf3-f7b52d9cb64f"
      },
      "source": [
        "final_uncleaned.dtypes"
      ],
      "execution_count": 18,
      "outputs": [
        {
          "output_type": "execute_result",
          "data": {
            "text/plain": [
              "unique_id                            object\n",
              "ID                                   object\n",
              "Date Sent                            object\n",
              "Subject                              object\n",
              "MLS#_x                               object\n",
              "From                                 object\n",
              "To                                   object\n",
              "Offerer Checker From_team_1          object\n",
              "Offerer Checker To_team_1            object\n",
              "Offerer Checker From_team_2          object\n",
              "Offerer Checker To_team_2            object\n",
              "Buyer Offer                           int64\n",
              "Counter_team_1                        int64\n",
              "Counter_team_2                        int64\n",
              "Human Counter_Team_1                  int64\n",
              "Human Counter_Team_2                  int64\n",
              "Master Counter                        int64\n",
              "Message Number                        int64\n",
              "Scenario                             object\n",
              "Human Scenario_team_1                object\n",
              "Human Scenario_team_2                object\n",
              "Human Keyword Trigger(s)_team_1      object\n",
              "Human Keyword Trigger(s)_team_2      object\n",
              "Master Scenario                      object\n",
              "Message_x                            object\n",
              "Keywords                             object\n",
              "Keyword Template                     object\n",
              "Keyword Matching Rate               float64\n",
              "classification_phillips_vs_teams     object\n",
              "Row_number                            int64\n",
              "UID                                  object\n",
              "MLS#_y                               object\n",
              "Prediction                           object\n",
              "Correction                           object\n",
              "Actual                               object\n",
              "Message_y                            object\n",
              "dtype: object"
            ]
          },
          "metadata": {
            "tags": []
          },
          "execution_count": 18
        }
      ]
    },
    {
      "cell_type": "markdown",
      "metadata": {
        "id": "drwGtc3byYnf",
        "colab_type": "text"
      },
      "source": [
        "# 3) Clean The Data"
      ]
    },
    {
      "cell_type": "code",
      "metadata": {
        "id": "fQWIJfeTypog",
        "colab_type": "code",
        "colab": {}
      },
      "source": [
        "# Remove the unnessary Columns \n",
        "final_uncleaned = final_uncleaned.drop(['Counter_team_1','Human Counter_Team_1',\n",
        "                                        'Human Counter_Team_2','Human Scenario_team_1',\n",
        "                                        'Human Scenario_team_2', 'classification_phillips_vs_teams', \n",
        "                                        'Offerer Checker From_team_1',\n",
        "                                        'Offerer Checker To_team_1','MLS#_x','Message_x','UID','Counter_team_2', \n",
        "                                        'Master Scenario', 'Row_number','Correction', \n",
        "                                        'Keywords', 'Keyword Template', 'Keyword Matching Rate'], axis=1);\n",
        "\n",
        "# Fill NaNs in message with empty spaces \n",
        "final_uncleaned['Message_y'].fillna(\"\", inplace=True);                    \n",
        "\n"
      ],
      "execution_count": 19,
      "outputs": []
    },
    {
      "cell_type": "code",
      "metadata": {
        "id": "esg1f7UT1Y0P",
        "colab_type": "code",
        "colab": {}
      },
      "source": [
        "# Rename Columns to specific the master file\n",
        "final_uncleaned = final_uncleaned.rename(columns= {'Offerer Checker From_team_2' : 'Offerer Checker From',\n",
        "                                                           'Offerer Checker To_team_2' : 'Offerer Checker To',\n",
        "                                                           'MLS#_y' : 'MLS#', 'Message_y' : 'Message','Prediction' : 'Prediction_scenario',\n",
        "                                                           'Actual' : 'Actual_scenario'});\n",
        "                                                        "
      ],
      "execution_count": 20,
      "outputs": []
    },
    {
      "cell_type": "code",
      "metadata": {
        "id": "Jwh1wXjSddbl",
        "colab_type": "code",
        "colab": {}
      },
      "source": [
        "# Reorder the Columns to fit the desired table\n",
        "final_uncleaned = final_uncleaned[[\"unique_id\", \"ID\", \"Date Sent\", \"Subject\",\n",
        "                                       \"MLS#\", \"From\", \"To\",\"Offerer Checker From\", \n",
        "                                       \"Offerer Checker To\", \"Buyer Offer\", \n",
        "                                       \"Master Counter\",\"Message Number\",\n",
        "                                       \"Prediction_scenario\",\"Actual_scenario\", \n",
        "                                       \"Human Keyword Trigger(s)_team_1\",\"Human Keyword Trigger(s)_team_2\", \n",
        "                                       \"Message\"]];"
      ],
      "execution_count": 21,
      "outputs": []
    },
    {
      "cell_type": "code",
      "metadata": {
        "id": "3lWNqZ5A09vs",
        "colab_type": "code",
        "colab": {}
      },
      "source": [
        "# Rename The dataframe\n",
        "final_cleaned = final_uncleaned; "
      ],
      "execution_count": 22,
      "outputs": []
    },
    {
      "cell_type": "code",
      "metadata": {
        "id": "XMOPUI8QiDDJ",
        "colab_type": "code",
        "colab": {
          "base_uri": "https://localhost:8080/",
          "height": 323
        },
        "outputId": "b0267b9d-8bc6-44ab-cf11-eb5301ca1d2f"
      },
      "source": [
        "final_cleaned.dtypes"
      ],
      "execution_count": 23,
      "outputs": [
        {
          "output_type": "execute_result",
          "data": {
            "text/plain": [
              "unique_id                          object\n",
              "ID                                 object\n",
              "Date Sent                          object\n",
              "Subject                            object\n",
              "MLS#                               object\n",
              "From                               object\n",
              "To                                 object\n",
              "Offerer Checker From               object\n",
              "Offerer Checker To                 object\n",
              "Buyer Offer                         int64\n",
              "Master Counter                      int64\n",
              "Message Number                      int64\n",
              "Prediction_scenario                object\n",
              "Actual_scenario                    object\n",
              "Human Keyword Trigger(s)_team_1    object\n",
              "Human Keyword Trigger(s)_team_2    object\n",
              "Message                            object\n",
              "dtype: object"
            ]
          },
          "metadata": {
            "tags": []
          },
          "execution_count": 23
        }
      ]
    },
    {
      "cell_type": "code",
      "metadata": {
        "id": "dtz1nPpNiK9v",
        "colab_type": "code",
        "colab": {
          "base_uri": "https://localhost:8080/",
          "height": 697
        },
        "outputId": "e85ebcce-4923-48f6-ae33-a0d0db9ed729"
      },
      "source": [
        "final_cleaned.head(5)"
      ],
      "execution_count": 24,
      "outputs": [
        {
          "output_type": "execute_result",
          "data": {
            "text/html": [
              "<div>\n",
              "<style scoped>\n",
              "    .dataframe tbody tr th:only-of-type {\n",
              "        vertical-align: middle;\n",
              "    }\n",
              "\n",
              "    .dataframe tbody tr th {\n",
              "        vertical-align: top;\n",
              "    }\n",
              "\n",
              "    .dataframe thead th {\n",
              "        text-align: right;\n",
              "    }\n",
              "</style>\n",
              "<table border=\"1\" class=\"dataframe\">\n",
              "  <thead>\n",
              "    <tr style=\"text-align: right;\">\n",
              "      <th></th>\n",
              "      <th>unique_id</th>\n",
              "      <th>ID</th>\n",
              "      <th>Date Sent</th>\n",
              "      <th>Subject</th>\n",
              "      <th>MLS#</th>\n",
              "      <th>From</th>\n",
              "      <th>To</th>\n",
              "      <th>Offerer Checker From</th>\n",
              "      <th>Offerer Checker To</th>\n",
              "      <th>Buyer Offer</th>\n",
              "      <th>Master Counter</th>\n",
              "      <th>Message Number</th>\n",
              "      <th>Prediction_scenario</th>\n",
              "      <th>Actual_scenario</th>\n",
              "      <th>Human Keyword Trigger(s)_team_1</th>\n",
              "      <th>Human Keyword Trigger(s)_team_2</th>\n",
              "      <th>Message</th>\n",
              "    </tr>\n",
              "  </thead>\n",
              "  <tbody>\n",
              "    <tr>\n",
              "      <th>0</th>\n",
              "      <td>josh_431</td>\n",
              "      <td>josh_43</td>\n",
              "      <td>11/19/2019 : 21</td>\n",
              "      <td>OFFER FOR 4015 CASTILE SQUARE, AUSTELL, GA 301...</td>\n",
              "      <td>6635595</td>\n",
              "      <td>B</td>\n",
              "      <td>S</td>\n",
              "      <td>B</td>\n",
              "      <td>S</td>\n",
              "      <td>196500</td>\n",
              "      <td>0</td>\n",
              "      <td>1</td>\n",
              "      <td>Buyer Offer Made</td>\n",
              "      <td>Buyer Offer Made</td>\n",
              "      <td>I am a sales associate</td>\n",
              "      <td>I am a sales associate</td>\n",
              "      <td>tycom   wrote \\ufeff dear leon i am a sales as...</td>\n",
              "    </tr>\n",
              "    <tr>\n",
              "      <th>1</th>\n",
              "      <td>josh_482</td>\n",
              "      <td>josh_48</td>\n",
              "      <td>11/19/2019 : 21</td>\n",
              "      <td>OFFER FOR 2589 SLOAN STREET, AUSTELL, GA 30106...</td>\n",
              "      <td>6626426</td>\n",
              "      <td>S</td>\n",
              "      <td>B</td>\n",
              "      <td>S</td>\n",
              "      <td>B</td>\n",
              "      <td>130000</td>\n",
              "      <td>0</td>\n",
              "      <td>2</td>\n",
              "      <td>Received / Waiting on Client</td>\n",
              "      <td>Additional Info</td>\n",
              "      <td>['']</td>\n",
              "      <td>['']</td>\n",
              "      <td>thank you but that property had multiple offer...</td>\n",
              "    </tr>\n",
              "    <tr>\n",
              "      <th>2</th>\n",
              "      <td>josh_481</td>\n",
              "      <td>josh_48</td>\n",
              "      <td>11/19/2019 : 21</td>\n",
              "      <td>OFFER FOR 2589 SLOAN STREET, AUSTELL, GA 30106...</td>\n",
              "      <td>6626426</td>\n",
              "      <td>B</td>\n",
              "      <td>S</td>\n",
              "      <td>B</td>\n",
              "      <td>S</td>\n",
              "      <td>130000</td>\n",
              "      <td>0</td>\n",
              "      <td>1</td>\n",
              "      <td>Buyer Offer Made</td>\n",
              "      <td>Buyer Offer Made</td>\n",
              "      <td>I am a sales associate</td>\n",
              "      <td>I am a sales associate</td>\n",
              "      <td>915 pm  wrote  \\ufeff dear shane  i am a sales...</td>\n",
              "    </tr>\n",
              "    <tr>\n",
              "      <th>3</th>\n",
              "      <td>josh_522</td>\n",
              "      <td>josh_52</td>\n",
              "      <td>11/19/2019 : 22</td>\n",
              "      <td>OFFER FOR 933 PINE OAK TRAIL, AUSTELL, GA 3016...</td>\n",
              "      <td>6618131</td>\n",
              "      <td>S</td>\n",
              "      <td>B</td>\n",
              "      <td>S</td>\n",
              "      <td>B</td>\n",
              "      <td>50500</td>\n",
              "      <td>55000</td>\n",
              "      <td>2</td>\n",
              "      <td>Counter</td>\n",
              "      <td>Counter</td>\n",
              "      <td>client will accept</td>\n",
              "      <td>client will accept</td>\n",
              "      <td>hello joshuamy client will accept 55k with all...</td>\n",
              "    </tr>\n",
              "    <tr>\n",
              "      <th>4</th>\n",
              "      <td>josh_532</td>\n",
              "      <td>josh_53</td>\n",
              "      <td>11/19/2019 : 23</td>\n",
              "      <td>OFFER FOR 7110 SILVER MINE CROSSING, AUSTELL, ...</td>\n",
              "      <td>6625152</td>\n",
              "      <td>S</td>\n",
              "      <td>B</td>\n",
              "      <td>S</td>\n",
              "      <td>B</td>\n",
              "      <td>144000</td>\n",
              "      <td>0</td>\n",
              "      <td>2</td>\n",
              "      <td>Reject</td>\n",
              "      <td>Reject</td>\n",
              "      <td>not be countering, too far apart</td>\n",
              "      <td>will not be countering</td>\n",
              "      <td>thank you for your offer joshua  however at th...</td>\n",
              "    </tr>\n",
              "  </tbody>\n",
              "</table>\n",
              "</div>"
            ],
            "text/plain": [
              "  unique_id  ...                                            Message\n",
              "0  josh_431  ...  tycom   wrote \\ufeff dear leon i am a sales as...\n",
              "1  josh_482  ...  thank you but that property had multiple offer...\n",
              "2  josh_481  ...  915 pm  wrote  \\ufeff dear shane  i am a sales...\n",
              "3  josh_522  ...  hello joshuamy client will accept 55k with all...\n",
              "4  josh_532  ...  thank you for your offer joshua  however at th...\n",
              "\n",
              "[5 rows x 17 columns]"
            ]
          },
          "metadata": {
            "tags": []
          },
          "execution_count": 24
        }
      ]
    },
    {
      "cell_type": "code",
      "metadata": {
        "id": "_8F0IDIMCcLY",
        "colab_type": "code",
        "colab": {
          "base_uri": "https://localhost:8080/",
          "height": 213,
          "referenced_widgets": [
            "6cd0346d335843cab7622ff456b9abd5",
            "e3848cedb9674167a2fdc18bbfcb4d60",
            "1211a86755f9478c9f82de2aaedfb433",
            "ce1371838ca849ee895e97cc4098906a",
            "23c4901dc4f24008b128f1711f766f6c",
            "6951efc3f35947d5b5fc302eb2001cc6",
            "ce879a71db48421e9bbd7bb6daae7bdb",
            "36431bd6d0234c66a454c2aa0f94aab9",
            "35d62f6a9c0d4c419e62ac407a14c61b",
            "ec3d066ba1394a50afbbab17bb0b70e0",
            "a6be8ba3d8d941309e6b5a592757a283",
            "8191f46abd14451aa0d9ecf48b51bfe9",
            "71f91056202b4f3ab621dd0ad0abc988",
            "97069ffd18bf469aa546d29b1ab5b689",
            "7e41a51f69364b1aa10effd189577e0a",
            "bfefb84bd8804977af441b349f24eda2",
            "4b4d72935d954a79ba17ef0f9ea546cc",
            "274363551331445587378891c833944f",
            "9cd70d9688814c9e8831b32b6804ad24",
            "ebfa9b1bec1c4df2a28022ef46ce064c",
            "9d8e91e20f404f2bb80e89bfdd2f10e5",
            "bd8471b3db0a402a8a868bf2e40275b2",
            "f2aef67160b944d1a3590defc180c865",
            "967a9b0191824543b26646addf671db4",
            "26d9bf8ece2d4a8ab47daf0ae4aba0ff",
            "4f1b1d088c384965a3382bde28af5270",
            "6e1293b0b5854554b1c2553fc239d4ed",
            "f029cc17a76b46ae986c4558ee005d7f",
            "063f1e3c91a5406da370d093faacf27e",
            "50c96886863b46a296e0543d84a02b00",
            "474ca4e767764c588779f6ce4ca27cfd",
            "19bf655a3d604baf83c33d6f7f28ea23"
          ]
        },
        "outputId": "4e4ff047-83d3-45e3-aaf7-f4390861d22c"
      },
      "source": [
        "# Visualize the clean data\n",
        "from pandas_profiling import ProfileReport\n",
        "report = ProfileReport(final_cleaned)\n",
        "report.to_file(output_file='final_cleaned_file_test_set_summary.html')"
      ],
      "execution_count": 25,
      "outputs": [
        {
          "output_type": "display_data",
          "data": {
            "application/vnd.jupyter.widget-view+json": {
              "model_id": "6cd0346d335843cab7622ff456b9abd5",
              "version_minor": 0,
              "version_major": 2
            },
            "text/plain": [
              "HBox(children=(FloatProgress(value=0.0, description='Summarize dataset', max=31.0, style=ProgressStyle(descrip…"
            ]
          },
          "metadata": {
            "tags": []
          }
        },
        {
          "output_type": "stream",
          "text": [
            "\n"
          ],
          "name": "stdout"
        },
        {
          "output_type": "display_data",
          "data": {
            "application/vnd.jupyter.widget-view+json": {
              "model_id": "35d62f6a9c0d4c419e62ac407a14c61b",
              "version_minor": 0,
              "version_major": 2
            },
            "text/plain": [
              "HBox(children=(FloatProgress(value=0.0, description='Generate report structure', max=1.0, style=ProgressStyle(…"
            ]
          },
          "metadata": {
            "tags": []
          }
        },
        {
          "output_type": "stream",
          "text": [
            "\n"
          ],
          "name": "stdout"
        },
        {
          "output_type": "display_data",
          "data": {
            "application/vnd.jupyter.widget-view+json": {
              "model_id": "4b4d72935d954a79ba17ef0f9ea546cc",
              "version_minor": 0,
              "version_major": 2
            },
            "text/plain": [
              "HBox(children=(FloatProgress(value=0.0, description='Render HTML', max=1.0, style=ProgressStyle(description_wi…"
            ]
          },
          "metadata": {
            "tags": []
          }
        },
        {
          "output_type": "stream",
          "text": [
            "\n"
          ],
          "name": "stdout"
        },
        {
          "output_type": "display_data",
          "data": {
            "application/vnd.jupyter.widget-view+json": {
              "model_id": "26d9bf8ece2d4a8ab47daf0ae4aba0ff",
              "version_minor": 0,
              "version_major": 2
            },
            "text/plain": [
              "HBox(children=(FloatProgress(value=0.0, description='Export report to file', max=1.0, style=ProgressStyle(desc…"
            ]
          },
          "metadata": {
            "tags": []
          }
        },
        {
          "output_type": "stream",
          "text": [
            "\n"
          ],
          "name": "stdout"
        }
      ]
    },
    {
      "cell_type": "markdown",
      "metadata": {
        "id": "xvX7JqCBycrf",
        "colab_type": "text"
      },
      "source": [
        "# 4) Analize The Data (Scenario)"
      ]
    },
    {
      "cell_type": "code",
      "metadata": {
        "id": "1kXnwRIi1Kuh",
        "colab_type": "code",
        "colab": {
          "base_uri": "https://localhost:8080/",
          "height": 34
        },
        "outputId": "c92642c4-cc35-40a3-a378-f9a0faf64db1"
      },
      "source": [
        "print(\"Final File has %s useful entries out of %s entries \" % (final_cleaned.shape[0], MAX_ENTRIES_CURRENT));"
      ],
      "execution_count": 26,
      "outputs": [
        {
          "output_type": "stream",
          "text": [
            "Final File has 7512 useful entries out of 7685.0 entries \n"
          ],
          "name": "stdout"
        }
      ]
    },
    {
      "cell_type": "code",
      "metadata": {
        "id": "G-H__lt7xuXO",
        "colab_type": "code",
        "colab": {}
      },
      "source": [
        "# Function that outout 'y when phillip's model is correct and 'n' when it isn't \n",
        "def classification_column(p, human_classification):\n",
        "    if (p == human_classification):\n",
        "        return 'y';\n",
        "    else: \n",
        "        return 'n';\n"
      ],
      "execution_count": 27,
      "outputs": []
    },
    {
      "cell_type": "code",
      "metadata": {
        "id": "dXMsrGSG2MEv",
        "colab_type": "code",
        "colab": {}
      },
      "source": [
        "# Add the classification table for phillips and the master team's model \n",
        "final_cleaned['classification_phillips_vs_teams'] = final_cleaned.apply(lambda x : classification_column(x['Prediction_scenario'], x['Actual_scenario']), axis = 1);"
      ],
      "execution_count": 28,
      "outputs": []
    },
    {
      "cell_type": "markdown",
      "metadata": {
        "id": "TJTuTk0733IZ",
        "colab_type": "text"
      },
      "source": [
        "## i) Overall view of the similarity of scenarios between Master team and Phillip's "
      ]
    },
    {
      "cell_type": "code",
      "metadata": {
        "id": "g9z8-MqB32As",
        "colab_type": "code",
        "colab": {
          "base_uri": "https://localhost:8080/",
          "height": 85
        },
        "outputId": "327f9c06-cf24-4803-81db-3cb62ce43db9"
      },
      "source": [
        "# Overarching view of master and Phillip's Model\n",
        "acc_num = np.sum(((final_cleaned['Actual_scenario'] == final_cleaned['Prediction_scenario'])));\n",
        "acc_master_and_phillip = np.mean(((final_cleaned['Actual_scenario'] == final_cleaned['Prediction_scenario']))); \n",
        "# For the given data thus far \n",
        "print(\"Master team and Phillip's model have classified %s out of %s similarly\" % (acc_num, final_cleaned.shape[0]));\n",
        "print(\"percentage that Master team and Phillip's model have the same classification %6.3f%%\" % (acc_master_and_phillip * 100));\n",
        "print(\"Master team and Phillip's model have classified %s out of %s differently\" % (final_cleaned.shape[0] - acc_num, final_cleaned.shape[0]));\n",
        "print(\"percentage that Master team and Phillip's model have the different classification %6.3f%%\" % ((1 - acc_master_and_phillip) * 100));"
      ],
      "execution_count": 29,
      "outputs": [
        {
          "output_type": "stream",
          "text": [
            "Master team and Phillip's model have classified 6462 out of 7512 similarly\n",
            "percentage that Master team and Phillip's model have the same classification 86.022%\n",
            "Master team and Phillip's model have classified 1050 out of 7512 differently\n",
            "percentage that Master team and Phillip's model have the different classification 13.978%\n"
          ],
          "name": "stdout"
        }
      ]
    },
    {
      "cell_type": "markdown",
      "metadata": {
        "id": "Dmek4rVu49jT",
        "colab_type": "text"
      },
      "source": [
        "## ii) In depth view of the similarity of scenarios between Master team and Phillip's"
      ]
    },
    {
      "cell_type": "code",
      "metadata": {
        "id": "vnA_yLHu48tb",
        "colab_type": "code",
        "colab": {
          "base_uri": "https://localhost:8080/",
          "height": 442
        },
        "outputId": "8fb3af20-93b0-4068-9735-1cc639c889ee"
      },
      "source": [
        "# Classificationwise comparison of Master team and Phillip's Model\n",
        "master_equals_phillip = final_cleaned.loc[final_cleaned['Actual_scenario'] == final_cleaned['Prediction_scenario']]; \n",
        "# Print the percentage values for which they equal \n",
        "print(\"For Phillip's Model and Master team\");\n",
        "print('--------------------------------------------------------')\n",
        "print(master_equals_phillip['Prediction_scenario'].value_counts());\n",
        "print('--------------------------------------------------------');\n",
        "print(master_equals_phillip['Prediction_scenario'].value_counts(normalize=True));"
      ],
      "execution_count": 30,
      "outputs": [
        {
          "output_type": "stream",
          "text": [
            "For Phillip's Model and Master team\n",
            "--------------------------------------------------------\n",
            "Additional Info                 2594\n",
            "Buyer Offer Made                2005\n",
            "Counter                          470\n",
            "Under Contract / Pending         370\n",
            "Reject                           350\n",
            "Received / Waiting on Client     333\n",
            "Sold / Withdrawn                 258\n",
            "Need PSA                          48\n",
            "Accept                            18\n",
            "Wrong Agent                       16\n",
            "Name: Prediction_scenario, dtype: int64\n",
            "--------------------------------------------------------\n",
            "Additional Info                 0.401424\n",
            "Buyer Offer Made                0.310275\n",
            "Counter                         0.072733\n",
            "Under Contract / Pending        0.057258\n",
            "Reject                          0.054163\n",
            "Received / Waiting on Client    0.051532\n",
            "Sold / Withdrawn                0.039926\n",
            "Need PSA                        0.007428\n",
            "Accept                          0.002786\n",
            "Wrong Agent                     0.002476\n",
            "Name: Prediction_scenario, dtype: float64\n"
          ],
          "name": "stdout"
        }
      ]
    },
    {
      "cell_type": "code",
      "metadata": {
        "id": "cskrvHdf5nFq",
        "colab_type": "code",
        "colab": {
          "base_uri": "https://localhost:8080/",
          "height": 862
        },
        "outputId": "d65772d3-886e-458d-dca3-c33772171b1f"
      },
      "source": [
        "# Pie Chart to summarize the results\n",
        "master_equals_phillip['Prediction_scenario'].value_counts(normalize=True).sort_values().plot(kind = 'pie', figsize=(15,15), autopct='%.2f%%', \n",
        "                                                                                  fontsize = '10', title = 'Pie Chart Showing The Classfications from Master team and Phillips model that are EQUAL to each other');"
      ],
      "execution_count": 31,
      "outputs": [
        {
          "output_type": "display_data",
          "data": {
            "image/png": "[encoded data removed]",
            "text/plain": [
              "<Figure size 1080x1080 with 1 Axes>"
            ]
          },
          "metadata": {
            "tags": []
          }
        }
      ]
    },
    {
      "cell_type": "markdown",
      "metadata": {
        "id": "DaiNScJr_O5E",
        "colab_type": "text"
      },
      "source": [
        "## iii) In depth view of the differences of scenarios between Master team and Phillip's"
      ]
    },
    {
      "cell_type": "code",
      "metadata": {
        "id": "GaeE4LvT_PhN",
        "colab_type": "code",
        "colab": {
          "base_uri": "https://localhost:8080/",
          "height": 442
        },
        "outputId": "4170fb32-f600-4d1a-9490-c9633c1d13f1"
      },
      "source": [
        "# Classificationwise comparison of Master team and Phillip's Model For Values that are not EQUAL \n",
        "master_team_not_equals_phillip = final_cleaned.loc[final_cleaned['Actual_scenario'] != final_cleaned['Prediction_scenario']]; \n",
        "print('classifications when Master team does not equal Phillips Model');\n",
        "print('--------------------------------------------------------');\n",
        "# Print the numerical values for which they equal \n",
        "print(master_team_not_equals_phillip['Prediction_scenario'].value_counts());\n",
        "print('--------------------------------------------------------');\n",
        "# Print the percentage values for which they equal \n",
        "print(master_team_not_equals_phillip['Prediction_scenario'].value_counts(normalize=True));"
      ],
      "execution_count": 32,
      "outputs": [
        {
          "output_type": "stream",
          "text": [
            "classifications when Master team does not equal Phillips Model\n",
            "--------------------------------------------------------\n",
            "Additional Info                 568\n",
            "Reject                          122\n",
            "Counter                         107\n",
            "Received / Waiting on Client     98\n",
            "Under Contract / Pending         70\n",
            "Sold / Withdrawn                 40\n",
            "Buyer Offer Made                 17\n",
            "Wrong Agent                      14\n",
            "Need PSA                         13\n",
            "Accept                            1\n",
            "Name: Prediction_scenario, dtype: int64\n",
            "--------------------------------------------------------\n",
            "Additional Info                 0.540952\n",
            "Reject                          0.116190\n",
            "Counter                         0.101905\n",
            "Received / Waiting on Client    0.093333\n",
            "Under Contract / Pending        0.066667\n",
            "Sold / Withdrawn                0.038095\n",
            "Buyer Offer Made                0.016190\n",
            "Wrong Agent                     0.013333\n",
            "Need PSA                        0.012381\n",
            "Accept                          0.000952\n",
            "Name: Prediction_scenario, dtype: float64\n"
          ],
          "name": "stdout"
        }
      ]
    },
    {
      "cell_type": "code",
      "metadata": {
        "id": "cIyVoqXa_fZw",
        "colab_type": "code",
        "colab": {
          "base_uri": "https://localhost:8080/",
          "height": 862
        },
        "outputId": "e2f0ef7c-0582-4925-e000-54c7c3399d69"
      },
      "source": [
        "# Piechart to Summarize the results \n",
        "master_team_not_equals_phillip['Prediction_scenario'].value_counts(normalize=True).sort_values().plot(kind = 'pie', figsize=(15,15), fontsize = '10',  autopct='%.2f%%',\n",
        "                                                                                           title = 'Pie Chart Showing The Classfications from Master team and Phillips model that are NOT EQUAL to each other');"
      ],
      "execution_count": 33,
      "outputs": [
        {
          "output_type": "display_data",
          "data": {
            "image/png": "[encoded data removed]",
            "text/plain": [
              "<Figure size 1080x1080 with 1 Axes>"
            ]
          },
          "metadata": {
            "tags": []
          }
        }
      ]
    },
    {
      "cell_type": "code",
      "metadata": {
        "id": "WLCvQ6JS_kbr",
        "colab_type": "code",
        "colab": {
          "base_uri": "https://localhost:8080/",
          "height": 17
        },
        "outputId": "5cb5e8b1-7fa1-46cf-d989-f829c2ba02ea"
      },
      "source": [
        "# Save file so we can View this in more detail (i.e. we can view the mismatch in Classifications between master and Phillip's Model)\n",
        "# Export master_team_not_equals_phillip to CSV \n",
        "master_team_not_equals_phillip.to_csv(r'master_team_not_equals_phillip.csv', index = False, header=True)\n",
        "from google.colab import files\n",
        "files.download(\"master_team_not_equals_phillip.csv\")"
      ],
      "execution_count": 34,
      "outputs": [
        {
          "output_type": "display_data",
          "data": {
            "application/javascript": [
              "\n",
              "    async function download(id, filename, size) {\n",
              "      if (!google.colab.kernel.accessAllowed) {\n",
              "        return;\n",
              "      }\n",
              "      const div = document.createElement('div');\n",
              "      const label = document.createElement('label');\n",
              "      label.textContent = `Downloading \"${filename}\": `;\n",
              "      div.appendChild(label);\n",
              "      const progress = document.createElement('progress');\n",
              "      progress.max = size;\n",
              "      div.appendChild(progress);\n",
              "      document.body.appendChild(div);\n",
              "\n",
              "      const buffers = [];\n",
              "      let downloaded = 0;\n",
              "\n",
              "      const channel = await google.colab.kernel.comms.open(id);\n",
              "      // Send a message to notify the kernel that we're ready.\n",
              "      channel.send({})\n",
              "\n",
              "      for await (const message of channel.messages) {\n",
              "        // Send a message to notify the kernel that we're ready.\n",
              "        channel.send({})\n",
              "        if (message.buffers) {\n",
              "          for (const buffer of message.buffers) {\n",
              "            buffers.push(buffer);\n",
              "            downloaded += buffer.byteLength;\n",
              "            progress.value = downloaded;\n",
              "          }\n",
              "        }\n",
              "      }\n",
              "      const blob = new Blob(buffers, {type: 'application/binary'});\n",
              "      const a = document.createElement('a');\n",
              "      a.href = window.URL.createObjectURL(blob);\n",
              "      a.download = filename;\n",
              "      div.appendChild(a);\n",
              "      a.click();\n",
              "      div.remove();\n",
              "    }\n",
              "  "
            ],
            "text/plain": [
              "<IPython.core.display.Javascript object>"
            ]
          },
          "metadata": {
            "tags": []
          }
        },
        {
          "output_type": "display_data",
          "data": {
            "application/javascript": [
              "download(\"download_d9908bf7-2ed9-4d5c-a604-820552c43ca0\", \"master_team_not_equals_phillip.csv\", 549227)"
            ],
            "text/plain": [
              "<IPython.core.display.Javascript object>"
            ]
          },
          "metadata": {
            "tags": []
          }
        }
      ]
    },
    {
      "cell_type": "markdown",
      "metadata": {
        "id": "wkYzNbslKtDN",
        "colab_type": "text"
      },
      "source": [
        "## iv)  Accuracy with Phillip Model, assuming that the master model is the ground truth/is correct "
      ]
    },
    {
      "cell_type": "code",
      "metadata": {
        "id": "s15ihlNjKsPr",
        "colab_type": "code",
        "colab": {}
      },
      "source": [
        "# Create a table that has phillip Corect values with the total number (shows the accuracy of Phillips Model)\n",
        "df_val_counts_master_equals_phillip = pd.DataFrame(master_equals_phillip['Prediction_scenario'].value_counts(sort=True, ascending=False));\n",
        "df_val_counts_ground_truth_values = pd.DataFrame(final_uncleaned['Actual_scenario'].value_counts(sort=True));\n",
        "accuracy_phillip_master_df = pd.merge(left=df_val_counts_master_equals_phillip, right=df_val_counts_ground_truth_values, left_on=df_val_counts_master_equals_phillip.index.values, right_on=df_val_counts_ground_truth_values.index.values, how='inner');\n",
        "accuracy_phillip_master_df = accuracy_phillip_master_df.rename(columns= {'key_0' : 'Scenario Type',\n",
        "                                                           'Prediction_scenario' : 'Phillips Model Correct Classification',\n",
        "                                                           'Actual_scenario' : 'Total Number Of Classification type'});\n",
        "\n",
        "                                                        \n",
        "\n"
      ],
      "execution_count": 35,
      "outputs": []
    },
    {
      "cell_type": "code",
      "metadata": {
        "id": "zVWx-VheTSQ7",
        "colab_type": "code",
        "colab": {}
      },
      "source": [
        "accuracy_phillip_master_df['accuracy'] = accuracy_phillip_master_df.apply(lambda x : (x['Phillips Model Correct Classification'])/x['Total Number Of Classification type'], axis=1);\n",
        "accuracy_phillip_master_df['delta'] = accuracy_phillip_master_df.apply(lambda x : (x['Total Number Of Classification type'] - x['Phillips Model Correct Classification']), axis=1);\n",
        "accuracy_phillip_master_df['total'] = accuracy_phillip_master_df.apply(lambda x : (x['Total Number Of Classification type']), axis=1);\n",
        "# Sort it by accuracy \n",
        "accuracy_phillip_master_df = accuracy_phillip_master_df.sort_values('accuracy',ascending=False)"
      ],
      "execution_count": 36,
      "outputs": []
    },
    {
      "cell_type": "code",
      "metadata": {
        "id": "cY1TC-S1vRN1",
        "colab_type": "code",
        "colab": {
          "base_uri": "https://localhost:8080/",
          "height": 359
        },
        "outputId": "f8d10fed-3cc2-45ed-c7e4-a3b2fd420079"
      },
      "source": [
        "accuracy_phillip_master_df"
      ],
      "execution_count": 37,
      "outputs": [
        {
          "output_type": "execute_result",
          "data": {
            "text/html": [
              "<div>\n",
              "<style scoped>\n",
              "    .dataframe tbody tr th:only-of-type {\n",
              "        vertical-align: middle;\n",
              "    }\n",
              "\n",
              "    .dataframe tbody tr th {\n",
              "        vertical-align: top;\n",
              "    }\n",
              "\n",
              "    .dataframe thead th {\n",
              "        text-align: right;\n",
              "    }\n",
              "</style>\n",
              "<table border=\"1\" class=\"dataframe\">\n",
              "  <thead>\n",
              "    <tr style=\"text-align: right;\">\n",
              "      <th></th>\n",
              "      <th>Scenario Type</th>\n",
              "      <th>Phillips Model Correct Classification</th>\n",
              "      <th>Total Number Of Classification type</th>\n",
              "      <th>accuracy</th>\n",
              "      <th>delta</th>\n",
              "      <th>total</th>\n",
              "    </tr>\n",
              "  </thead>\n",
              "  <tbody>\n",
              "    <tr>\n",
              "      <th>1</th>\n",
              "      <td>Buyer Offer Made</td>\n",
              "      <td>2005</td>\n",
              "      <td>2030</td>\n",
              "      <td>0.987685</td>\n",
              "      <td>25</td>\n",
              "      <td>2030</td>\n",
              "    </tr>\n",
              "    <tr>\n",
              "      <th>0</th>\n",
              "      <td>Additional Info</td>\n",
              "      <td>2594</td>\n",
              "      <td>2848</td>\n",
              "      <td>0.910815</td>\n",
              "      <td>254</td>\n",
              "      <td>2848</td>\n",
              "    </tr>\n",
              "    <tr>\n",
              "      <th>3</th>\n",
              "      <td>Under Contract / Pending</td>\n",
              "      <td>370</td>\n",
              "      <td>460</td>\n",
              "      <td>0.804348</td>\n",
              "      <td>90</td>\n",
              "      <td>460</td>\n",
              "    </tr>\n",
              "    <tr>\n",
              "      <th>6</th>\n",
              "      <td>Sold / Withdrawn</td>\n",
              "      <td>258</td>\n",
              "      <td>326</td>\n",
              "      <td>0.791411</td>\n",
              "      <td>68</td>\n",
              "      <td>326</td>\n",
              "    </tr>\n",
              "    <tr>\n",
              "      <th>2</th>\n",
              "      <td>Counter</td>\n",
              "      <td>470</td>\n",
              "      <td>672</td>\n",
              "      <td>0.699405</td>\n",
              "      <td>202</td>\n",
              "      <td>672</td>\n",
              "    </tr>\n",
              "    <tr>\n",
              "      <th>5</th>\n",
              "      <td>Received / Waiting on Client</td>\n",
              "      <td>333</td>\n",
              "      <td>487</td>\n",
              "      <td>0.683778</td>\n",
              "      <td>154</td>\n",
              "      <td>487</td>\n",
              "    </tr>\n",
              "    <tr>\n",
              "      <th>4</th>\n",
              "      <td>Reject</td>\n",
              "      <td>350</td>\n",
              "      <td>530</td>\n",
              "      <td>0.660377</td>\n",
              "      <td>180</td>\n",
              "      <td>530</td>\n",
              "    </tr>\n",
              "    <tr>\n",
              "      <th>7</th>\n",
              "      <td>Need PSA</td>\n",
              "      <td>48</td>\n",
              "      <td>91</td>\n",
              "      <td>0.527473</td>\n",
              "      <td>43</td>\n",
              "      <td>91</td>\n",
              "    </tr>\n",
              "    <tr>\n",
              "      <th>9</th>\n",
              "      <td>Wrong Agent</td>\n",
              "      <td>16</td>\n",
              "      <td>31</td>\n",
              "      <td>0.516129</td>\n",
              "      <td>15</td>\n",
              "      <td>31</td>\n",
              "    </tr>\n",
              "    <tr>\n",
              "      <th>8</th>\n",
              "      <td>Accept</td>\n",
              "      <td>18</td>\n",
              "      <td>37</td>\n",
              "      <td>0.486486</td>\n",
              "      <td>19</td>\n",
              "      <td>37</td>\n",
              "    </tr>\n",
              "  </tbody>\n",
              "</table>\n",
              "</div>"
            ],
            "text/plain": [
              "                  Scenario Type  ...  total\n",
              "1              Buyer Offer Made  ...   2030\n",
              "0               Additional Info  ...   2848\n",
              "3      Under Contract / Pending  ...    460\n",
              "6              Sold / Withdrawn  ...    326\n",
              "2                       Counter  ...    672\n",
              "5  Received / Waiting on Client  ...    487\n",
              "4                        Reject  ...    530\n",
              "7                      Need PSA  ...     91\n",
              "9                   Wrong Agent  ...     31\n",
              "8                        Accept  ...     37\n",
              "\n",
              "[10 rows x 6 columns]"
            ]
          },
          "metadata": {
            "tags": []
          },
          "execution_count": 37
        }
      ]
    },
    {
      "cell_type": "code",
      "metadata": {
        "id": "aG2f9doYWAvH",
        "colab_type": "code",
        "colab": {}
      },
      "source": [
        "\n",
        "new_row = {'Scenario Type':'TOTAL', 'Phillips Model Correct Classification':master_equals_phillip.shape[0], 'Total Number Of Classification type':final_uncleaned.shape[0], 'accuracy': master_equals_phillip.shape[0]/final_uncleaned.shape[0], 'delta' : final_uncleaned.shape[0] - master_equals_phillip.shape[0], 'total' :final_uncleaned.shape[0]}\n",
        "accuracy_phillip_master_df = accuracy_phillip_master_df.append(new_row, ignore_index=True)\n"
      ],
      "execution_count": 38,
      "outputs": []
    },
    {
      "cell_type": "code",
      "metadata": {
        "id": "9-of-HuEtj1H",
        "colab_type": "code",
        "colab": {}
      },
      "source": [
        "# Rename the columns to get the right format \n",
        "accuracy_phillip_master_df =  accuracy_phillip_master_df.rename(columns= {'Phillips Model Correct Classification' : 'Phillip_6.26.2020',\n",
        "                                                           'Total Number Of Classification type' : 'Master Combined Legend',\n",
        "                                                           'delta' : 'Delta', 'total' : 'Total','accuracy' : 'Accuracy'});\n",
        "\n"
      ],
      "execution_count": 39,
      "outputs": []
    },
    {
      "cell_type": "code",
      "metadata": {
        "id": "PTwIBHlDeOoN",
        "colab_type": "code",
        "colab": {}
      },
      "source": [
        "# Reorder the Columns to fit the initial table\n",
        "accuracy_phillip_master_df = accuracy_phillip_master_df[[\"Scenario Type\", \"Total\", \"Phillip_6.26.2020\",\n",
        "                                       \"Master Combined Legend\", \"Delta\", \"Accuracy\"]];"
      ],
      "execution_count": 40,
      "outputs": []
    },
    {
      "cell_type": "code",
      "metadata": {
        "id": "1r6-2DLKvref",
        "colab_type": "code",
        "colab": {
          "base_uri": "https://localhost:8080/",
          "height": 390
        },
        "outputId": "8a719862-5a01-44ad-e21b-fb60b8194367"
      },
      "source": [
        "accuracy_phillip_master_df"
      ],
      "execution_count": 41,
      "outputs": [
        {
          "output_type": "execute_result",
          "data": {
            "text/html": [
              "<div>\n",
              "<style scoped>\n",
              "    .dataframe tbody tr th:only-of-type {\n",
              "        vertical-align: middle;\n",
              "    }\n",
              "\n",
              "    .dataframe tbody tr th {\n",
              "        vertical-align: top;\n",
              "    }\n",
              "\n",
              "    .dataframe thead th {\n",
              "        text-align: right;\n",
              "    }\n",
              "</style>\n",
              "<table border=\"1\" class=\"dataframe\">\n",
              "  <thead>\n",
              "    <tr style=\"text-align: right;\">\n",
              "      <th></th>\n",
              "      <th>Scenario Type</th>\n",
              "      <th>Total</th>\n",
              "      <th>Phillip_6.26.2020</th>\n",
              "      <th>Master Combined Legend</th>\n",
              "      <th>Delta</th>\n",
              "      <th>Accuracy</th>\n",
              "    </tr>\n",
              "  </thead>\n",
              "  <tbody>\n",
              "    <tr>\n",
              "      <th>0</th>\n",
              "      <td>Buyer Offer Made</td>\n",
              "      <td>2030</td>\n",
              "      <td>2005</td>\n",
              "      <td>2030</td>\n",
              "      <td>25</td>\n",
              "      <td>0.987685</td>\n",
              "    </tr>\n",
              "    <tr>\n",
              "      <th>1</th>\n",
              "      <td>Additional Info</td>\n",
              "      <td>2848</td>\n",
              "      <td>2594</td>\n",
              "      <td>2848</td>\n",
              "      <td>254</td>\n",
              "      <td>0.910815</td>\n",
              "    </tr>\n",
              "    <tr>\n",
              "      <th>2</th>\n",
              "      <td>Under Contract / Pending</td>\n",
              "      <td>460</td>\n",
              "      <td>370</td>\n",
              "      <td>460</td>\n",
              "      <td>90</td>\n",
              "      <td>0.804348</td>\n",
              "    </tr>\n",
              "    <tr>\n",
              "      <th>3</th>\n",
              "      <td>Sold / Withdrawn</td>\n",
              "      <td>326</td>\n",
              "      <td>258</td>\n",
              "      <td>326</td>\n",
              "      <td>68</td>\n",
              "      <td>0.791411</td>\n",
              "    </tr>\n",
              "    <tr>\n",
              "      <th>4</th>\n",
              "      <td>Counter</td>\n",
              "      <td>672</td>\n",
              "      <td>470</td>\n",
              "      <td>672</td>\n",
              "      <td>202</td>\n",
              "      <td>0.699405</td>\n",
              "    </tr>\n",
              "    <tr>\n",
              "      <th>5</th>\n",
              "      <td>Received / Waiting on Client</td>\n",
              "      <td>487</td>\n",
              "      <td>333</td>\n",
              "      <td>487</td>\n",
              "      <td>154</td>\n",
              "      <td>0.683778</td>\n",
              "    </tr>\n",
              "    <tr>\n",
              "      <th>6</th>\n",
              "      <td>Reject</td>\n",
              "      <td>530</td>\n",
              "      <td>350</td>\n",
              "      <td>530</td>\n",
              "      <td>180</td>\n",
              "      <td>0.660377</td>\n",
              "    </tr>\n",
              "    <tr>\n",
              "      <th>7</th>\n",
              "      <td>Need PSA</td>\n",
              "      <td>91</td>\n",
              "      <td>48</td>\n",
              "      <td>91</td>\n",
              "      <td>43</td>\n",
              "      <td>0.527473</td>\n",
              "    </tr>\n",
              "    <tr>\n",
              "      <th>8</th>\n",
              "      <td>Wrong Agent</td>\n",
              "      <td>31</td>\n",
              "      <td>16</td>\n",
              "      <td>31</td>\n",
              "      <td>15</td>\n",
              "      <td>0.516129</td>\n",
              "    </tr>\n",
              "    <tr>\n",
              "      <th>9</th>\n",
              "      <td>Accept</td>\n",
              "      <td>37</td>\n",
              "      <td>18</td>\n",
              "      <td>37</td>\n",
              "      <td>19</td>\n",
              "      <td>0.486486</td>\n",
              "    </tr>\n",
              "    <tr>\n",
              "      <th>10</th>\n",
              "      <td>TOTAL</td>\n",
              "      <td>7512</td>\n",
              "      <td>6462</td>\n",
              "      <td>7512</td>\n",
              "      <td>1050</td>\n",
              "      <td>0.860224</td>\n",
              "    </tr>\n",
              "  </tbody>\n",
              "</table>\n",
              "</div>"
            ],
            "text/plain": [
              "                   Scenario Type  Total  ...  Delta  Accuracy\n",
              "0               Buyer Offer Made   2030  ...     25  0.987685\n",
              "1                Additional Info   2848  ...    254  0.910815\n",
              "2       Under Contract / Pending    460  ...     90  0.804348\n",
              "3               Sold / Withdrawn    326  ...     68  0.791411\n",
              "4                        Counter    672  ...    202  0.699405\n",
              "5   Received / Waiting on Client    487  ...    154  0.683778\n",
              "6                         Reject    530  ...    180  0.660377\n",
              "7                       Need PSA     91  ...     43  0.527473\n",
              "8                    Wrong Agent     31  ...     15  0.516129\n",
              "9                         Accept     37  ...     19  0.486486\n",
              "10                         TOTAL   7512  ...   1050  0.860224\n",
              "\n",
              "[11 rows x 6 columns]"
            ]
          },
          "metadata": {
            "tags": []
          },
          "execution_count": 41
        }
      ]
    },
    {
      "cell_type": "code",
      "metadata": {
        "id": "GoNvqoPiVvCc",
        "colab_type": "code",
        "colab": {
          "base_uri": "https://localhost:8080/",
          "height": 17
        },
        "outputId": "45318731-67b9-4121-8095-7090d5fd3e8e"
      },
      "source": [
        "# Save file so we can View this in more detail (i.e. we can view the accuracy of Phillip's Model)\n",
        "# Export accuracy_phillip_master_df to CSV \n",
        "accuracy_phillip_master_df.to_csv(r'accuracy_phillip_master_df.csv', index = False, header=True)\n",
        "from google.colab import files\n",
        "files.download(\"accuracy_phillip_master_df.csv\")"
      ],
      "execution_count": 42,
      "outputs": [
        {
          "output_type": "display_data",
          "data": {
            "application/javascript": [
              "\n",
              "    async function download(id, filename, size) {\n",
              "      if (!google.colab.kernel.accessAllowed) {\n",
              "        return;\n",
              "      }\n",
              "      const div = document.createElement('div');\n",
              "      const label = document.createElement('label');\n",
              "      label.textContent = `Downloading \"${filename}\": `;\n",
              "      div.appendChild(label);\n",
              "      const progress = document.createElement('progress');\n",
              "      progress.max = size;\n",
              "      div.appendChild(progress);\n",
              "      document.body.appendChild(div);\n",
              "\n",
              "      const buffers = [];\n",
              "      let downloaded = 0;\n",
              "\n",
              "      const channel = await google.colab.kernel.comms.open(id);\n",
              "      // Send a message to notify the kernel that we're ready.\n",
              "      channel.send({})\n",
              "\n",
              "      for await (const message of channel.messages) {\n",
              "        // Send a message to notify the kernel that we're ready.\n",
              "        channel.send({})\n",
              "        if (message.buffers) {\n",
              "          for (const buffer of message.buffers) {\n",
              "            buffers.push(buffer);\n",
              "            downloaded += buffer.byteLength;\n",
              "            progress.value = downloaded;\n",
              "          }\n",
              "        }\n",
              "      }\n",
              "      const blob = new Blob(buffers, {type: 'application/binary'});\n",
              "      const a = document.createElement('a');\n",
              "      a.href = window.URL.createObjectURL(blob);\n",
              "      a.download = filename;\n",
              "      div.appendChild(a);\n",
              "      a.click();\n",
              "      div.remove();\n",
              "    }\n",
              "  "
            ],
            "text/plain": [
              "<IPython.core.display.Javascript object>"
            ]
          },
          "metadata": {
            "tags": []
          }
        },
        {
          "output_type": "display_data",
          "data": {
            "application/javascript": [
              "download(\"download_844615a6-3049-435f-8f1a-67086b8cec2d\", \"accuracy_phillip_master_df.csv\", 606)"
            ],
            "text/plain": [
              "<IPython.core.display.Javascript object>"
            ]
          },
          "metadata": {
            "tags": []
          }
        }
      ]
    },
    {
      "cell_type": "markdown",
      "metadata": {
        "id": "r4-pz08f_iEY",
        "colab_type": "text"
      },
      "source": [
        "# 4) Analize The Data (Counters) \n",
        "- TODO - need the results for counters from Phillip"
      ]
    },
    {
      "cell_type": "markdown",
      "metadata": {
        "id": "F_Nx0befC58R",
        "colab_type": "text"
      },
      "source": [
        "## i) Counters that are identical to each other"
      ]
    },
    {
      "cell_type": "code",
      "metadata": {
        "id": "A9XWKyek_zKy",
        "colab_type": "code",
        "colab": {},
        "cellView": "form"
      },
      "source": [
        "#@title\n",
        "# # View of Master team and Phillip's Model (COUNTERS)\n",
        "# acc_num = np.sum(((final_cleaned['Counter'] == final_cleaned['Master Counter'])));\n",
        "# acc_master_team_and_phillip_counters = np.mean(((final_cleaned['Counter'] == final_cleaned['Master Counter']))); \n",
        "# # For the given data thus far \n",
        "# print(\"master_team and Phillip's Model have %s out of %s similarly for Counters\" % (acc_num, final_cleaned.shape[0]));\n",
        "# print(\"percentage that master_team and Phillip's Model have the same counters %6.3f%%\" % (acc_master_team_and_phillip_counters * 100));\n",
        "# print(\"master_team and Phillip's Model have %s out of %s differently for Counters\" % (final_cleaned.shape[0] - acc_num, final_cleaned.shape[0]));\n",
        "# print(\"percentage that master_team and Phillip's Model have the different counters %6.3f%%\" % ((1 - acc_master_team_and_phillip_counters) * 100));\n",
        "# # Not super bad (but most are zeros - should probably filter them out and investigate further)"
      ],
      "execution_count": 43,
      "outputs": []
    },
    {
      "cell_type": "markdown",
      "metadata": {
        "id": "CeocP58nDAA8",
        "colab_type": "text"
      },
      "source": [
        "## ii) Counters that are different from each other "
      ]
    },
    {
      "cell_type": "code",
      "metadata": {
        "id": "Vll147BaBKkP",
        "colab_type": "code",
        "colab": {},
        "cellView": "form"
      },
      "source": [
        "#@title\n",
        "# # ID's of Master Team and Phillip's model (COUNTERS) for counters that are not equal  \n",
        "# master_team_not_equals_phillips_counters_df = final_cleaned.loc[final_cleaned['Counter'] != final_cleaned['Master Counter']]; \n",
        "# print(master_team_not_equals_phillips_counters_df.shape);\n",
        "# master_team_not_equals_phillips_counters_df                                \n",
        "# # Conclusion Phillip's Model doesn't find the correct number for counters  "
      ],
      "execution_count": 44,
      "outputs": []
    },
    {
      "cell_type": "code",
      "metadata": {
        "id": "dBktIW5TIWSk",
        "colab_type": "code",
        "colab": {},
        "cellView": "form"
      },
      "source": [
        "#@title\n",
        "# # Save file so we can View this in more detail \n",
        "# # Export master_team_not_equals_phillips_counters_df to CSV \n",
        "# master_team_not_equals_phillips_counters_df.to_csv(r'counters_master_team_and_phillip.csv', index = False, header=True)\n",
        "# from google.colab import files\n",
        "# files.download(\"counters_master_team_and_phillip.csv\")"
      ],
      "execution_count": 45,
      "outputs": []
    },
    {
      "cell_type": "markdown",
      "metadata": {
        "id": "WlT0z90kB2-K",
        "colab_type": "text"
      },
      "source": [
        "# 5) Save the final Clean File"
      ]
    },
    {
      "cell_type": "code",
      "metadata": {
        "id": "11x7lajmBWlO",
        "colab_type": "code",
        "colab": {
          "base_uri": "https://localhost:8080/",
          "height": 17
        },
        "outputId": "d92c11fa-167f-4a8c-cf71-004ccfb05479"
      },
      "source": [
        "# Export final_cleaned to CSV \n",
        "final_cleaned.to_csv(r'final_dataframe.csv', index = False, header=True)\n",
        "from google.colab import files\n",
        "files.download(\"final_dataframe.csv\")\n"
      ],
      "execution_count": 46,
      "outputs": [
        {
          "output_type": "display_data",
          "data": {
            "application/javascript": [
              "\n",
              "    async function download(id, filename, size) {\n",
              "      if (!google.colab.kernel.accessAllowed) {\n",
              "        return;\n",
              "      }\n",
              "      const div = document.createElement('div');\n",
              "      const label = document.createElement('label');\n",
              "      label.textContent = `Downloading \"${filename}\": `;\n",
              "      div.appendChild(label);\n",
              "      const progress = document.createElement('progress');\n",
              "      progress.max = size;\n",
              "      div.appendChild(progress);\n",
              "      document.body.appendChild(div);\n",
              "\n",
              "      const buffers = [];\n",
              "      let downloaded = 0;\n",
              "\n",
              "      const channel = await google.colab.kernel.comms.open(id);\n",
              "      // Send a message to notify the kernel that we're ready.\n",
              "      channel.send({})\n",
              "\n",
              "      for await (const message of channel.messages) {\n",
              "        // Send a message to notify the kernel that we're ready.\n",
              "        channel.send({})\n",
              "        if (message.buffers) {\n",
              "          for (const buffer of message.buffers) {\n",
              "            buffers.push(buffer);\n",
              "            downloaded += buffer.byteLength;\n",
              "            progress.value = downloaded;\n",
              "          }\n",
              "        }\n",
              "      }\n",
              "      const blob = new Blob(buffers, {type: 'application/binary'});\n",
              "      const a = document.createElement('a');\n",
              "      a.href = window.URL.createObjectURL(blob);\n",
              "      a.download = filename;\n",
              "      div.appendChild(a);\n",
              "      a.click();\n",
              "      div.remove();\n",
              "    }\n",
              "  "
            ],
            "text/plain": [
              "<IPython.core.display.Javascript object>"
            ]
          },
          "metadata": {
            "tags": []
          }
        },
        {
          "output_type": "display_data",
          "data": {
            "application/javascript": [
              "download(\"download_dfb283d9-754f-44b7-bf7d-b15782d256b2\", \"final_dataframe.csv\", 4078477)"
            ],
            "text/plain": [
              "<IPython.core.display.Javascript object>"
            ]
          },
          "metadata": {
            "tags": []
          }
        }
      ]
    }
  ]
}